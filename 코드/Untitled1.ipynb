{
  "nbformat": 4,
  "nbformat_minor": 0,
  "metadata": {
    "colab": {
      "name": "Untitled1.ipynb",
      "provenance": [],
      "authorship_tag": "ABX9TyOxWvzY+9KA/78KFfZu0XPY",
      "include_colab_link": true
    },
    "kernelspec": {
      "name": "python3",
      "display_name": "Python 3"
    }
  },
  "cells": [
    {
      "cell_type": "markdown",
      "metadata": {
        "id": "view-in-github",
        "colab_type": "text"
      },
      "source": [
        "<a href=\"https://colab.research.google.com/github/yds725/nuclear_plant_proj/blob/code_development/Untitled1.ipynb\" target=\"_parent\"><img src=\"https://colab.research.google.com/assets/colab-badge.svg\" alt=\"Open In Colab\"/></a>"
      ]
    },
    {
      "cell_type": "code",
      "metadata": {
        "id": "fV57WJwL3PIT",
        "colab_type": "code",
        "outputId": "1439641d-23f0-4bdf-d15d-4daa07f8902b",
        "colab": {
          "base_uri": "https://localhost:8080/",
          "height": 332
        }
      },
      "source": [
        "from google.colab import drive\n",
        "drive.mount('/content/drive')"
      ],
      "execution_count": 0,
      "outputs": [
        {
          "output_type": "error",
          "ename": "ValueError",
          "evalue": "ignored",
          "traceback": [
            "\u001b[0;31m---------------------------------------------------------------------------\u001b[0m",
            "\u001b[0;31mValueError\u001b[0m                                Traceback (most recent call last)",
            "\u001b[0;32m<ipython-input-8-21336c09dfad>\u001b[0m in \u001b[0;36m<module>\u001b[0;34m()\u001b[0m\n\u001b[1;32m      1\u001b[0m \u001b[0;32mfrom\u001b[0m \u001b[0mgoogle\u001b[0m\u001b[0;34m.\u001b[0m\u001b[0mcolab\u001b[0m \u001b[0;32mimport\u001b[0m \u001b[0mdrive\u001b[0m\u001b[0;34m\u001b[0m\u001b[0;34m\u001b[0m\u001b[0m\n\u001b[0;32m----> 2\u001b[0;31m \u001b[0mdrive\u001b[0m\u001b[0;34m.\u001b[0m\u001b[0mmount\u001b[0m\u001b[0;34m(\u001b[0m\u001b[0;34m'/content/drive/My Drive/원자력 발전소'\u001b[0m\u001b[0;34m)\u001b[0m\u001b[0;34m\u001b[0m\u001b[0;34m\u001b[0m\u001b[0m\n\u001b[0m",
            "\u001b[0;32m/usr/local/lib/python3.6/dist-packages/google/colab/drive.py\u001b[0m in \u001b[0;36mmount\u001b[0;34m(mountpoint, force_remount, timeout_ms, use_metadata_server)\u001b[0m\n\u001b[1;32m     93\u001b[0m \u001b[0;34m\u001b[0m\u001b[0m\n\u001b[1;32m     94\u001b[0m   \u001b[0;32mif\u001b[0m \u001b[0;34m' '\u001b[0m \u001b[0;32min\u001b[0m \u001b[0mmountpoint\u001b[0m\u001b[0;34m:\u001b[0m\u001b[0;34m\u001b[0m\u001b[0;34m\u001b[0m\u001b[0m\n\u001b[0;32m---> 95\u001b[0;31m     \u001b[0;32mraise\u001b[0m \u001b[0mValueError\u001b[0m\u001b[0;34m(\u001b[0m\u001b[0;34m'Mountpoint must not contain a space.'\u001b[0m\u001b[0;34m)\u001b[0m\u001b[0;34m\u001b[0m\u001b[0;34m\u001b[0m\u001b[0m\n\u001b[0m\u001b[1;32m     96\u001b[0m \u001b[0;34m\u001b[0m\u001b[0m\n\u001b[1;32m     97\u001b[0m   \u001b[0mmountpoint\u001b[0m \u001b[0;34m=\u001b[0m \u001b[0m_os\u001b[0m\u001b[0;34m.\u001b[0m\u001b[0mpath\u001b[0m\u001b[0;34m.\u001b[0m\u001b[0mexpanduser\u001b[0m\u001b[0;34m(\u001b[0m\u001b[0mmountpoint\u001b[0m\u001b[0;34m)\u001b[0m\u001b[0;34m\u001b[0m\u001b[0;34m\u001b[0m\u001b[0m\n",
            "\u001b[0;31mValueError\u001b[0m: Mountpoint must not contain a space."
          ]
        }
      ]
    },
    {
      "cell_type": "code",
      "metadata": {
        "id": "GnJvlad59Ymp",
        "colab_type": "code",
        "outputId": "4beb313c-4b7f-4235-b942-a044deea031b",
        "colab": {
          "base_uri": "https://localhost:8080/",
          "height": 34
        }
      },
      "source": [
        "!ls /content/drive/My\\ Drive/*.py"
      ],
      "execution_count": 0,
      "outputs": [
        {
          "output_type": "stream",
          "text": [
            "'/content/drive/My Drive/data_loader.py'\n"
          ],
          "name": "stdout"
        }
      ]
    },
    {
      "cell_type": "code",
      "metadata": {
        "id": "Jmg1MwJcAAop",
        "colab_type": "code",
        "colab": {}
      },
      "source": [
        ""
      ],
      "execution_count": 0,
      "outputs": []
    },
    {
      "cell_type": "code",
      "metadata": {
        "id": "w576FYJs9DJK",
        "colab_type": "code",
        "colab": {}
      },
      "source": [
        "import sys\n",
        "sys.path.append(\"/content/drive/My Drive\")"
      ],
      "execution_count": 0,
      "outputs": []
    },
    {
      "cell_type": "code",
      "metadata": {
        "id": "EQUyYLVg2vGz",
        "colab_type": "code",
        "colab": {}
      },
      "source": [
        "import os \n",
        "import pandas as pd \n",
        "import numpy as np \n",
        "from multiprocessing import Pool \n",
        "import multiprocessing \n",
        "from data_loader import data_loader #data_loader.py 파일을 다운 받아 주셔야 합니다. from tqdm import tqdm from functools import partial\n",
        "from tqdm import tqdm\n",
        "from functools import partial"
      ],
      "execution_count": 0,
      "outputs": []
    },
    {
      "cell_type": "code",
      "metadata": {
        "id": "nwEQWndetCfO",
        "colab_type": "code",
        "colab": {}
      },
      "source": [
        "import pandas as pd\n",
        "import numpy as np\n",
        "\n",
        "def add_id_column(df, file_id):\n",
        "    \n",
        "    id_dataframe = pd.DataFrame({'id' : [file_id for i in range(df.shape[0])]})\n",
        "\n",
        "    df = pd.concat([id_dataframe, df], axis=1)\n",
        "    \n",
        "    return df\n",
        "\n",
        "def data_loader(path, train, nrows, **kwargs):\n",
        "    \n",
        "    '''\n",
        "    Parameters:\n",
        "    \n",
        "    path: [str] train용 또는 test용 csv 파일들이 저장되어 있는 폴더 \n",
        "    train: [boolean] train용 파일들 불러올 시 True, 아니면 False\n",
        "    nrows: [int] csv 파일에서 불러올 상위 n개의 row \n",
        "    lookup_table: [pd.DataFrame] train_label.csv 파일을 저장한 변수 \n",
        "    event_time: [int] 상태_B 발생 시간 \n",
        "    normal: [int] 상태_A의 라벨\n",
        "    \n",
        "    Return:\n",
        "    \n",
        "    data: train 또는 test data\n",
        "    '''\n",
        "    \n",
        "    \n",
        "    # 1. 해당 파일 경로에서 확장자 제외한 파일 이름만 가지고 오기 \n",
        "    file_id = int(path.split('/')[-1].split('.')[0])\n",
        "    \n",
        "    # 2. train일 경우\n",
        "    if train : \n",
        "        \n",
        "        # 2-1 label 정보 저장\n",
        "        lookup_table = kwargs['lookup_table']\n",
        "\n",
        "        file_label = int(lookup_table[lookup_table['id'] == file_id]['label'])\n",
        "        \n",
        "        # 2-2 파일 읽기 \n",
        "        data = pd.read_csv(path, nrows = nrows)\n",
        "        \n",
        "        # 2-3 id컬럼 추가 \n",
        "        data = add_id_column(data, file_id)\n",
        "        \n",
        "        # 2-3 label컬럼 추가 \n",
        "        event_time = kwargs['event_time']\n",
        "\n",
        "        data['label'] = np.concatenate((np.repeat(kwargs['normal'], event_time), np.repeat(file_label, data.shape[0]-event_time)))\n",
        "\n",
        "    # 3. test일 경우 \n",
        "    else : \n",
        "        \n",
        "        # 3-1 파일 읽기\n",
        "        data = pd.read_csv(path, nrows = nrows)\n",
        "        \n",
        "        # 3-2 id컬럼 추가 \n",
        "        data = add_id_column(data, file_id)\n",
        "        \n",
        "    return data"
      ],
      "execution_count": 0,
      "outputs": []
    }
  ]
}