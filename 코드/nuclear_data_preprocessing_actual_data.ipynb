{
  "nbformat": 4,
  "nbformat_minor": 0,
  "metadata": {
    "colab": {
      "name": "nuclear_data_preprocessing.ipynb",
      "provenance": [],
      "collapsed_sections": [],
      "authorship_tag": "ABX9TyMS9GjonCnvMQE9tMN3FCcV",
      "include_colab_link": true
    },
    "kernelspec": {
      "name": "python3",
      "display_name": "Python 3"
    },
    "accelerator": "GPU"
  },
  "cells": [
    {
      "cell_type": "markdown",
      "metadata": {
        "id": "view-in-github",
        "colab_type": "text"
      },
      "source": [
        "<a href=\"https://colab.research.google.com/github/yds725/nuclear_plant_proj/blob/code_development/nuclear_data_preprocessing_actual_data.ipynb\" target=\"_parent\"><img src=\"https://colab.research.google.com/assets/colab-badge.svg\" alt=\"Open In Colab\"/></a>"
      ]
    },
    {
      "cell_type": "code",
      "metadata": {
        "id": "PpVB32i0YtEg",
        "colab_type": "code",
        "outputId": "513c5022-1acd-4292-d041-ea30c2b60fd6",
        "colab": {
          "base_uri": "https://localhost:8080/",
          "height": 127
        }
      },
      "source": [
        "from google.colab import drive\n",
        "drive.mount('/content/drive')"
      ],
      "execution_count": 1,
      "outputs": [
        {
          "output_type": "stream",
          "text": [
            "Go to this URL in a browser: https://accounts.google.com/o/oauth2/auth?client_id=947318989803-6bn6qk8qdgf4n4g3pfee6491hc0brc4i.apps.googleusercontent.com&redirect_uri=urn%3aietf%3awg%3aoauth%3a2.0%3aoob&response_type=code&scope=email%20https%3a%2f%2fwww.googleapis.com%2fauth%2fdocs.test%20https%3a%2f%2fwww.googleapis.com%2fauth%2fdrive%20https%3a%2f%2fwww.googleapis.com%2fauth%2fdrive.photos.readonly%20https%3a%2f%2fwww.googleapis.com%2fauth%2fpeopleapi.readonly\n",
            "\n",
            "Enter your authorization code:\n",
            "··········\n",
            "Mounted at /content/drive\n"
          ],
          "name": "stdout"
        }
      ]
    },
    {
      "cell_type": "code",
      "metadata": {
        "id": "ZSe5KMBOHH7d",
        "colab_type": "code",
        "colab": {}
      },
      "source": [
        "import re"
      ],
      "execution_count": 0,
      "outputs": []
    },
    {
      "cell_type": "code",
      "metadata": {
        "id": "EYQRo8xByPbs",
        "colab_type": "code",
        "colab": {}
      },
      "source": [
        "## 값이 똑같은 컬럼 삭제\n",
        "def del_cols_same_val(data_f):\n",
        "  # end = data_f.shape[1]\n",
        "\n",
        "  # for i in range(end):\n",
        "  #   minmax = max(data_f.iloc[:,i]) - min(data_f.iloc[:,i])\n",
        "\n",
        "  #   if minmax == 0:\n",
        "  #     data_f.drop(data_f.columns[[i]], axis = 1, inplace = True)\n",
        "\n",
        "  n_unique = data_f.apply(pd.Series.nunique)\n",
        "  cols_to_drop = n_unique[n_unique == 1].index\n",
        "\n",
        "  data_f.drop(cols_to_drop, axis = 1, inplace = True)\n",
        "\n",
        "def check_if_null(data_f):\n",
        "\n",
        "  # 데이터 프레임 칼럼안에 눌 데이터가 있는 지 확인\n",
        "  if data_f.isnull().values.any() or \"No Data\" in data_f.values or \"Bad\" in data_f.values or \"CLOSE\" in data_f.values or \"Equip Fail\" in data_f.values or \"Normal\" in data_f.values or \"OFF\" in data_f.values or \"ON\" in data_f.values or \"OPEN\" in data_f.values or \"System.Char[]\" in data_f.values :\n",
        "    print(\"DataFrame has certain Values!\")\n",
        "    return True\n",
        "\n",
        "def check_if_string(data_f):\n",
        "  if "
      ],
      "execution_count": 0,
      "outputs": []
    },
    {
      "cell_type": "markdown",
      "metadata": {
        "id": "LQzNfEd-3YBN",
        "colab_type": "text"
      },
      "source": [
        ""
      ]
    },
    {
      "cell_type": "code",
      "metadata": {
        "id": "R3eBrdXQYnGB",
        "colab_type": "code",
        "colab": {}
      },
      "source": [
        "# train data 만 다 불러서 dictionary에다 넣어놓기\n",
        "\n",
        "import glob\n",
        "import pandas as pd\n",
        "from pprint import pprint\n",
        "import time\n",
        "\n",
        "#start = time.time() # 시간 저장\n",
        "\n",
        "# glob glob\n",
        "train_csv_files = [file for file in glob.glob(\"/content/drive/My Drive/Nuclear_SemiProj/data/test/*.csv\")]\n",
        "\n",
        "# train_dic = {}\n",
        "\n",
        "#dic_idx = -1\n",
        "# 각 csv 파일\n",
        "\n",
        "what_list = []\n",
        "\n",
        "flag = False\n",
        "\n",
        "for file_name in train_csv_files:\n",
        "    print(file_name)\n",
        "    # csv 파일\n",
        "    #dic_idx += 1\n",
        "    train_csv = pd.read_csv(file_name)\n",
        "\n",
        "    # 눌 데이터가 있는 지 확인\n",
        "    flagged = check_if_null(train_csv) \n",
        "\n",
        "    if flagged:\n",
        "      what_list.append(file_name)\n",
        "\n",
        "\n",
        "print(what_list)\n",
        "\n",
        "\n",
        "    # 값이 똑같은 칼럼 삭제\n",
        "    #del_cols_same_val(train_csv)\n",
        "\n",
        "    #print(train_csv.shape)\n",
        "    \n",
        "\n",
        "    #final_str = \"00\" + str(dic_idx)\n",
        "\n",
        "    #file_to_name = re.sub(\"/content/drive/My Drive/Nuclear_SemiProj/data/train-002/\", \"\", file_name)\n",
        "    #print(file_to_name)\n",
        "\n",
        "    #train_csv.to_csv(\"/content/drive/My Drive/Nuclear_SemiProj/output/\" + file_to_name, index = False)\n",
        "\n",
        "    \n",
        "\n",
        "    # dictionary 만들기\n",
        "    #train_dic[dic_idx] = train_csv\n",
        "\n",
        "#print(\"Time Took :\", time.time() - start) # 현재 시간 - 시작시간 = 실행시간\n",
        "\n",
        "#print(train_csv_files)\n",
        "\n",
        "#pprint(train_dic.items()[0:2])"
      ],
      "execution_count": 0,
      "outputs": []
    }
  ]
}