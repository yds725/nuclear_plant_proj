{
  "nbformat": 4,
  "nbformat_minor": 0,
  "metadata": {
    "colab": {
      "name": "nuclear_data_preprocessing.ipynb",
      "provenance": [],
      "collapsed_sections": [],
      "authorship_tag": "ABX9TyPyOtfWGNNL+uZFsOEqu/+W",
      "include_colab_link": true
    },
    "kernelspec": {
      "name": "python3",
      "display_name": "Python 3"
    },
    "accelerator": "GPU"
  },
  "cells": [
    {
      "cell_type": "markdown",
      "metadata": {
        "id": "view-in-github",
        "colab_type": "text"
      },
      "source": [
        "<a href=\"https://colab.research.google.com/github/yds725/nuclear_plant_proj/blob/code_development/nuclear_data_preprocessing.ipynb\" target=\"_parent\"><img src=\"https://colab.research.google.com/assets/colab-badge.svg\" alt=\"Open In Colab\"/></a>"
      ]
    },
    {
      "cell_type": "code",
      "metadata": {
        "id": "PpVB32i0YtEg",
        "colab_type": "code",
        "outputId": "ae60c050-853c-493d-e47d-4479565a1ae0",
        "colab": {
          "base_uri": "https://localhost:8080/",
          "height": 127
        }
      },
      "source": [
        "from google.colab import drive\n",
        "drive.mount('/content/drive')"
      ],
      "execution_count": 2,
      "outputs": [
        {
          "output_type": "stream",
          "text": [
            "Go to this URL in a browser: https://accounts.google.com/o/oauth2/auth?client_id=947318989803-6bn6qk8qdgf4n4g3pfee6491hc0brc4i.apps.googleusercontent.com&redirect_uri=urn%3aietf%3awg%3aoauth%3a2.0%3aoob&response_type=code&scope=email%20https%3a%2f%2fwww.googleapis.com%2fauth%2fdocs.test%20https%3a%2f%2fwww.googleapis.com%2fauth%2fdrive%20https%3a%2f%2fwww.googleapis.com%2fauth%2fdrive.photos.readonly%20https%3a%2f%2fwww.googleapis.com%2fauth%2fpeopleapi.readonly\n",
            "\n",
            "Enter your authorization code:\n",
            "··········\n",
            "Mounted at /content/drive\n"
          ],
          "name": "stdout"
        }
      ]
    },
    {
      "cell_type": "code",
      "metadata": {
        "id": "ZSe5KMBOHH7d",
        "colab_type": "code",
        "colab": {}
      },
      "source": [
        "import re\n",
        "import glob\n",
        "import pandas as pd\n",
        "from pprint import pprint\n",
        "import time\n"
      ],
      "execution_count": 0,
      "outputs": []
    },
    {
      "cell_type": "code",
      "metadata": {
        "id": "EYQRo8xByPbs",
        "colab_type": "code",
        "colab": {}
      },
      "source": [
        "## 값이 똑같은 컬럼 삭제\n",
        "def del_cols_same_val(data_f):\n",
        "  # end = data_f.shape[1]\n",
        "\n",
        "  # for i in range(end):\n",
        "  #   minmax = max(data_f.iloc[:,i]) - min(data_f.iloc[:,i])\n",
        "\n",
        "  #   if minmax == 0:\n",
        "  #     data_f.drop(data_f.columns[[i]], axis = 1, inplace = True)\n",
        "\n",
        "  n_unique = data_f.apply(pd.Series.nunique)\n",
        "  cols_to_drop = n_unique[n_unique == 1].index\n",
        "\n",
        "  data_f.drop(cols_to_drop, axis = 1, inplace = True)\n",
        "\n",
        "def check_if_null(data_f):\n",
        "\n",
        "  # 데이터 프레임 칼럼안에 눌 데이터가 있는 지 확인\n",
        "  if data_f.isnull().values.any() or \"No Data\" in data_f.values or \"Bad\" in data_f.values or \"CLOSE\" in data_f.values or \"Equip Fail\" in data_f.values or \"Normal\" in data_f.values or \"OFF\" in data_f.values or \"ON\" in data_f.values or \"OPEN\" in data_f.values or \"System.Char[]\" in data_f.values :\n",
        "    print(\"DataFrame has certain Values!\")\n",
        "    return True\n",
        "\n",
        "# highest freq cols\n",
        "def get_highest_cols(data_f):\n",
        "  new_data_f = data_f.drop('time', axis=1)\n",
        "\n",
        "  unique_ser = new_data_f.nunique()\n",
        "\n",
        "  max_val = unique_ser.max()\n",
        "\n",
        "  highest_columns = unique_ser[unique_ser == max_val].index \n",
        "\n",
        "  highest_columns = highest_columns.insert(0,'time')\n",
        "\n",
        "  return data_f[highest_columns]\n",
        "  # data_f"
      ],
      "execution_count": 0,
      "outputs": []
    },
    {
      "cell_type": "code",
      "metadata": {
        "id": "Qo2EE8YTE9Ok",
        "colab_type": "code",
        "colab": {}
      },
      "source": [
        ""
      ],
      "execution_count": 0,
      "outputs": []
    },
    {
      "cell_type": "code",
      "metadata": {
        "id": "h6qZwmHr0njE",
        "colab_type": "code",
        "colab": {
          "base_uri": "https://localhost:8080/",
          "height": 143
        },
        "outputId": "5c2cf716-f5cf-45e2-a615-9578a75cfab4"
      },
      "source": [
        "data_f00 = pd.read_csv(\"/content/drive/My Drive/Nuclear_SemiProj/train/0.csv\")\n",
        "\n",
        "data_new = data_f00.drop('time', axis=1)\n",
        "\n",
        "new_1 = data_new.nunique()\n",
        "#print(data_new.nunique().max())\n",
        "indexes = new_1[new_1 == 600].index \n",
        "\n",
        "new_index = indexes.insert(0, 'time')\n",
        "\n",
        "print(new_index)\n",
        "\n",
        "data_new_1 = data_f00[new_index]\n",
        "\n",
        "print(data_new_1.shape)"
      ],
      "execution_count": 37,
      "outputs": [
        {
          "output_type": "stream",
          "text": [
            "Index(['time', 'V0000', 'V0001', 'V0002', 'V0003', 'V0004', 'V0005', 'V0006',\n",
            "       'V0007', 'V0009',\n",
            "       ...\n",
            "       'V5079', 'V5080', 'V5084', 'V5085', 'V5086', 'V5087', 'V5088', 'V5089',\n",
            "       'V5090', 'V5118'],\n",
            "      dtype='object', length=2076)\n",
            "(600, 2076)\n"
          ],
          "name": "stdout"
        }
      ]
    },
    {
      "cell_type": "code",
      "metadata": {
        "id": "0dhVljtt2u7Z",
        "colab_type": "code",
        "colab": {}
      },
      "source": [
        ""
      ],
      "execution_count": 0,
      "outputs": []
    },
    {
      "cell_type": "markdown",
      "metadata": {
        "id": "LQzNfEd-3YBN",
        "colab_type": "text"
      },
      "source": [
        ""
      ]
    },
    {
      "cell_type": "code",
      "metadata": {
        "id": "R3eBrdXQYnGB",
        "colab_type": "code",
        "colab": {}
      },
      "source": [
        "# train data 만 다 불러서 dictionary에다 넣어놓기\n",
        "\n",
        "import glob\n",
        "import pandas as pd\n",
        "from pprint import pprint\n",
        "import time\n",
        "\n",
        "#start = time.time() # 시간 저장\n",
        "\n",
        "# glob glob\n",
        "# train_csv_files = [file for file in glob.glob(\"/content/drive/My Drive/Nuclear_SemiProj/data/test/*.csv\")]\n",
        "\n",
        "train_csv_files = [file for file in glob.glob(\"/content/drive/My Drive/Nuclear_SemiProj/train/*.csv\")]\n",
        "\n",
        "# train_dic = {}\n",
        "\n",
        "#dic_idx = -1\n",
        "# 각 csv 파일\n",
        "\n",
        "what_list = []\n",
        "\n",
        "flag = False\n",
        "\n",
        "for file_name in train_csv_files:\n",
        "    print(file_name)\n",
        "    # csv 파일\n",
        "    #dic_idx += 1\n",
        "    train_csv = pd.read_csv(file_name)\n",
        "\n",
        "    # 눌 데이터가 있는 지 확인\n",
        "    flagged = check_if_null(train_csv) \n",
        "\n",
        "    if flagged:\n",
        "      what_list.append(file_name)\n",
        "\n",
        "\n",
        "print(what_list)\n",
        "\n",
        "\n",
        "    # 값이 똑같은 칼럼 삭제\n",
        "    #del_cols_same_val(train_csv)\n",
        "\n",
        "    #print(train_csv.shape)\n",
        "    \n",
        "\n",
        "    #final_str = \"00\" + str(dic_idx)\n",
        "\n",
        "    #file_to_name = re.sub(\"/content/drive/My Drive/Nuclear_SemiProj/data/train-002/\", \"\", file_name)\n",
        "    #print(file_to_name)\n",
        "\n",
        "    #train_csv.to_csv(\"/content/drive/My Drive/Nuclear_SemiProj/output/\" + file_to_name, index = False)\n",
        "\n",
        "    \n",
        "\n",
        "    # dictionary 만들기\n",
        "    #train_dic[dic_idx] = train_csv\n",
        "\n",
        "#print(\"Time Took :\", time.time() - start) # 현재 시간 - 시작시간 = 실행시간\n",
        "\n",
        "#print(train_csv_files)\n",
        "\n",
        "#pprint(train_dic.items()[0:2])"
      ],
      "execution_count": 0,
      "outputs": []
    },
    {
      "cell_type": "code",
      "metadata": {
        "id": "1ALIyrzn52uz",
        "colab_type": "code",
        "colab": {}
      },
      "source": [
        ""
      ],
      "execution_count": 0,
      "outputs": []
    }
  ]
}