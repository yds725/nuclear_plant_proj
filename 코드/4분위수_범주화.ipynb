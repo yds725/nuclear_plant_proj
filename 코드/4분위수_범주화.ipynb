{
  "nbformat": 4,
  "nbformat_minor": 0,
  "metadata": {
    "colab": {
      "name": "4분위수 범주화.ipynb",
      "provenance": [],
      "collapsed_sections": [],
      "authorship_tag": "ABX9TyPucXD4cd0WcOyzKXqZWCt+",
      "include_colab_link": true
    },
    "kernelspec": {
      "name": "python3",
      "display_name": "Python 3"
    }
  },
  "cells": [
    {
      "cell_type": "markdown",
      "metadata": {
        "id": "view-in-github",
        "colab_type": "text"
      },
      "source": [
        "<a href=\"https://colab.research.google.com/github/yds725/nuclear_plant_proj/blob/code_development/4%EB%B6%84%EC%9C%84%EC%88%98_%EB%B2%94%EC%A3%BC%ED%99%94.ipynb\" target=\"_parent\"><img src=\"https://colab.research.google.com/assets/colab-badge.svg\" alt=\"Open In Colab\"/></a>"
      ]
    },
    {
      "cell_type": "code",
      "metadata": {
        "id": "tJcVaJ26dtwl",
        "colab_type": "code",
        "colab": {
          "base_uri": "https://localhost:8080/",
          "height": 125
        },
        "outputId": "8e34f587-219d-42f9-c1dd-74bd26024a77"
      },
      "source": [
        "from google.colab import drive\n",
        "drive.mount('/content/drive')"
      ],
      "execution_count": 1,
      "outputs": [
        {
          "output_type": "stream",
          "text": [
            "Go to this URL in a browser: https://accounts.google.com/o/oauth2/auth?client_id=947318989803-6bn6qk8qdgf4n4g3pfee6491hc0brc4i.apps.googleusercontent.com&redirect_uri=urn%3aietf%3awg%3aoauth%3a2.0%3aoob&response_type=code&scope=email%20https%3a%2f%2fwww.googleapis.com%2fauth%2fdocs.test%20https%3a%2f%2fwww.googleapis.com%2fauth%2fdrive%20https%3a%2f%2fwww.googleapis.com%2fauth%2fdrive.photos.readonly%20https%3a%2f%2fwww.googleapis.com%2fauth%2fpeopleapi.readonly\n",
            "\n",
            "Enter your authorization code:\n",
            "··········\n",
            "Mounted at /content/drive\n"
          ],
          "name": "stdout"
        }
      ]
    },
    {
      "cell_type": "code",
      "metadata": {
        "id": "LXDQhPXOdvJB",
        "colab_type": "code",
        "colab": {
          "base_uri": "https://localhost:8080/",
          "height": 34
        },
        "outputId": "aabae41a-c9fa-470d-c310-ecd89cd7916c"
      },
      "source": [
        "import pandas as pd\n",
        "import numpy as np\n",
        "import matplotlib.pyplot as plt\n",
        "\n",
        "df_00=pd.read_csv(\"/content/drive/My Drive/output/0.csv\")\n",
        "len(df_00)\n",
        "df_00.shape[1]"
      ],
      "execution_count": 106,
      "outputs": [
        {
          "output_type": "execute_result",
          "data": {
            "text/plain": [
              "2310"
            ]
          },
          "metadata": {
            "tags": []
          },
          "execution_count": 106
        }
      ]
    },
    {
      "cell_type": "code",
      "metadata": {
        "id": "9SqXKm4tdyjQ",
        "colab_type": "code",
        "colab": {
          "base_uri": "https://localhost:8080/",
          "height": 265
        },
        "outputId": "addc6eac-aa49-4ecd-bc54-7c3d5a0d335b"
      },
      "source": [
        "\n",
        "\n",
        "for i in range(1,df_00.shape[1]):\n",
        "    q1,q2,q3 = np.percentile(df_00.iloc[:,i],[25,50,75])\n",
        "    df_00.loc[df_00.iloc[:,i] <= q1, df_00.columns[i]] = 0\n",
        "    df_00.loc[(df_00.iloc[:,i] > q1) & (df_00.iloc[:,i] <= q2), df_00.columns[i]] = 1\n",
        "    df_00.loc[(df_00.iloc[:,i]> q2) & (df_00.iloc[:,i] <= q3), df_00.columns[i]] = 2\n",
        "    df_00.loc[df_00.iloc[:,i] > q3, df_00.columns[i]] = 3\n",
        "print(df_00)"
      ],
      "execution_count": 107,
      "outputs": [
        {
          "output_type": "stream",
          "text": [
            "     time  V0000  V0001  V0002  V0003  ...  V5115  V5116  V5117  V5118  V5120\n",
            "0       0    3.0    0.0    3.0    1.0  ...    0.0    3.0    3.0    3.0    0.0\n",
            "1       1    0.0    3.0    0.0    1.0  ...    0.0    0.0    0.0    3.0    0.0\n",
            "2       2    2.0    3.0    1.0    2.0  ...    0.0    0.0    0.0    3.0    0.0\n",
            "3       3    0.0    3.0    2.0    2.0  ...    0.0    0.0    0.0    3.0    0.0\n",
            "4       4    2.0    3.0    1.0    2.0  ...    0.0    0.0    0.0    3.0    0.0\n",
            "..    ...    ...    ...    ...    ...  ...    ...    ...    ...    ...    ...\n",
            "595   595    3.0    0.0    2.0    0.0  ...    0.0    0.0    0.0    3.0    0.0\n",
            "596   596    0.0    2.0    0.0    0.0  ...    0.0    0.0    0.0    3.0    0.0\n",
            "597   597    1.0    0.0    0.0    1.0  ...    0.0    0.0    0.0    3.0    0.0\n",
            "598   598    2.0    1.0    2.0    3.0  ...    0.0    0.0    0.0    3.0    0.0\n",
            "599   599    0.0    2.0    0.0    1.0  ...    0.0    0.0    0.0    3.0    0.0\n",
            "\n",
            "[600 rows x 2310 columns]\n"
          ],
          "name": "stdout"
        }
      ]
    },
    {
      "cell_type": "code",
      "metadata": {
        "id": "rxwTcJo2rEFW",
        "colab_type": "code",
        "colab": {
          "base_uri": "https://localhost:8080/",
          "height": 34
        },
        "outputId": "8f27b136-ea0e-4cdd-bf42-50b1d60b344e"
      },
      "source": [
        ""
      ],
      "execution_count": 100,
      "outputs": [
        {
          "output_type": "execute_result",
          "data": {
            "text/plain": [
              "'V4582'"
            ]
          },
          "metadata": {
            "tags": []
          },
          "execution_count": 100
        }
      ]
    },
    {
      "cell_type": "code",
      "metadata": {
        "id": "mK39hQ7rdu1Q",
        "colab_type": "code",
        "colab": {}
      },
      "source": [
        ""
      ],
      "execution_count": 0,
      "outputs": []
    }
  ]
}