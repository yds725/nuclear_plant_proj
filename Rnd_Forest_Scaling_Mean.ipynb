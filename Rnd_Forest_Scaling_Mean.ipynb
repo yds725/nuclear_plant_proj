{
  "nbformat": 4,
  "nbformat_minor": 0,
  "metadata": {
    "colab": {
      "name": "Rnd_Forest_Scaling_Mean.ipynb",
      "provenance": [],
      "machine_shape": "hm",
      "authorship_tag": "ABX9TyOfrp5+Apwz4HcE/DdLlOaB",
      "include_colab_link": true
    },
    "kernelspec": {
      "name": "python3",
      "display_name": "Python 3"
    },
    "accelerator": "GPU"
  },
  "cells": [
    {
      "cell_type": "markdown",
      "metadata": {
        "id": "view-in-github",
        "colab_type": "text"
      },
      "source": [
        "<a href=\"https://colab.research.google.com/github/yds725/nuclear_plant_proj/blob/master/Rnd_Forest_Scaling_Mean.ipynb\" target=\"_parent\"><img src=\"https://colab.research.google.com/assets/colab-badge.svg\" alt=\"Open In Colab\"/></a>"
      ]
    },
    {
      "cell_type": "code",
      "metadata": {
        "id": "nDQcDcMEUMv2",
        "colab_type": "code",
        "outputId": "30a7ef57-65c9-4c2a-fbfa-65d750f363ed",
        "colab": {
          "base_uri": "https://localhost:8080/",
          "height": 125
        }
      },
      "source": [
        "from google.colab import drive\n",
        "drive.mount('/content/drive')"
      ],
      "execution_count": 0,
      "outputs": [
        {
          "output_type": "stream",
          "text": [
            "Go to this URL in a browser: https://accounts.google.com/o/oauth2/auth?client_id=947318989803-6bn6qk8qdgf4n4g3pfee6491hc0brc4i.apps.googleusercontent.com&redirect_uri=urn%3aietf%3awg%3aoauth%3a2.0%3aoob&response_type=code&scope=email%20https%3a%2f%2fwww.googleapis.com%2fauth%2fdocs.test%20https%3a%2f%2fwww.googleapis.com%2fauth%2fdrive%20https%3a%2f%2fwww.googleapis.com%2fauth%2fdrive.photos.readonly%20https%3a%2f%2fwww.googleapis.com%2fauth%2fpeopleapi.readonly\n",
            "\n",
            "Enter your authorization code:\n",
            "··········\n",
            "Mounted at /content/drive\n"
          ],
          "name": "stdout"
        }
      ]
    },
    {
      "cell_type": "code",
      "metadata": {
        "id": "DYRuRw0My9s9",
        "colab_type": "code",
        "outputId": "5f463739-31a7-4e02-afcf-a8291e92886a",
        "colab": {
          "base_uri": "https://localhost:8080/",
          "height": 204
        }
      },
      "source": [
        "# 고용량 램으로 바꾸는 법\n",
        "# 돌려줘서 한번 그 노트에 25기가 램으로 바꾸면 다음번에는 안해줘도 됨\n",
        "a = []\n",
        "while(1):\n",
        "    a.append('1')"
      ],
      "execution_count": 0,
      "outputs": [
        {
          "output_type": "error",
          "ename": "KeyboardInterrupt",
          "evalue": "ignored",
          "traceback": [
            "\u001b[0;31m---------------------------------------------------------------------------\u001b[0m",
            "\u001b[0;31mKeyboardInterrupt\u001b[0m                         Traceback (most recent call last)",
            "\u001b[0;32m<ipython-input-1-f13b8001d612>\u001b[0m in \u001b[0;36m<module>\u001b[0;34m()\u001b[0m\n\u001b[1;32m      1\u001b[0m \u001b[0ma\u001b[0m \u001b[0;34m=\u001b[0m \u001b[0;34m[\u001b[0m\u001b[0;34m]\u001b[0m\u001b[0;34m\u001b[0m\u001b[0;34m\u001b[0m\u001b[0m\n\u001b[1;32m      2\u001b[0m \u001b[0;32mwhile\u001b[0m\u001b[0;34m(\u001b[0m\u001b[0;36m1\u001b[0m\u001b[0;34m)\u001b[0m\u001b[0;34m:\u001b[0m\u001b[0;34m\u001b[0m\u001b[0;34m\u001b[0m\u001b[0m\n\u001b[0;32m----> 3\u001b[0;31m     \u001b[0ma\u001b[0m\u001b[0;34m.\u001b[0m\u001b[0mappend\u001b[0m\u001b[0;34m(\u001b[0m\u001b[0;34m'1'\u001b[0m\u001b[0;34m)\u001b[0m\u001b[0;34m\u001b[0m\u001b[0;34m\u001b[0m\u001b[0m\n\u001b[0m",
            "\u001b[0;31mKeyboardInterrupt\u001b[0m: "
          ]
        }
      ]
    },
    {
      "cell_type": "code",
      "metadata": {
        "id": "uu25RjnvUoUJ",
        "colab_type": "code",
        "colab": {}
      },
      "source": [
        "## data load v2 \n",
        "## 간략한 전처리 실시 \n",
        "import pandas as pd\n",
        "import numpy as np\n",
        "\n",
        "def data_loader_v2(file_name, folder='', train_label=None, event_time=10, nrows=60):\n",
        "    file_id = int(file_name.split('.')[0]) # file id만 불러오기\n",
        "    df = pd.read_csv(folder+file_name, index_col=0, nrows=nrows) # 파일 읽어오기\n",
        "    df = df.replace('.*', 0, regex=True).fillna(0) # 모든 문자열과 NA값을 0으로 대체\n",
        "    df = df.loc[event_time:] # event_time 이후의 row들만 가지고 오기\n",
        "    df.index = np.repeat(file_id, len(df)) # row 인덱스를 file id로 덮어 씌우기 \n",
        "    if type(train_label) != type(None):\n",
        "        label = train_label.loc[file_id]['label'] \n",
        "        df['label'] = np.repeat(label, len(df)) #train set일 경우 라벨 추가하기 \n",
        "    return df"
      ],
      "execution_count": 0,
      "outputs": []
    },
    {
      "cell_type": "code",
      "metadata": {
        "id": "IKXiwnzvUriP",
        "colab_type": "code",
        "colab": {}
      },
      "source": [
        "## 필요한 modules 불러오기 \n",
        "import os\n",
        "import pandas as pd \n",
        "import numpy as np\n",
        "import multiprocessing # 여러 개의 일꾼 (cpu)들에게 작업을 분산시키는 역할\n",
        "from multiprocessing import Pool \n",
        "from functools import partial # 함수가 받는 인자들 중 몇개를 고정 시켜서 새롭게 파생된 함수를 형성하는 역할\n",
        "#from data_loader_v2 import data_loader_v2 # 자체적으로 만든 data loader version 2.0 ([데이콘 15회 대회] 데이터 설명 및 데이터 불러오기 영상 참조)\n",
        "\n",
        "from sklearn.ensemble import RandomForestClassifier\n",
        "import joblib # 모델을 저장하고 불러오는 역할"
      ],
      "execution_count": 0,
      "outputs": []
    },
    {
      "cell_type": "code",
      "metadata": {
        "id": "eK3w9InXUtsg",
        "colab_type": "code",
        "colab": {}
      },
      "source": [
        "##Set path \n",
        "train_folder = '/content/drive/My Drive/Nuclear_SemiProj/output/train/'\n",
        "test_folder = '/content/drive/My Drive/Nuclear_SemiProj/output/test/'\n",
        "train_label_path = '/content/drive/My Drive/Nuclear_SemiProj/train_label.csv'"
      ],
      "execution_count": 0,
      "outputs": []
    },
    {
      "cell_type": "code",
      "metadata": {
        "id": "p4P860B1VjKQ",
        "colab_type": "code",
        "colab": {}
      },
      "source": [
        "##Load Files\n",
        "train_list = os.listdir(train_folder)\n",
        "test_list = os.listdir(test_folder)\n",
        "train_label = pd.read_csv(train_label_path, index_col=0)"
      ],
      "execution_count": 0,
      "outputs": []
    },
    {
      "cell_type": "code",
      "metadata": {
        "id": "snx2NVU-VkF2",
        "colab_type": "code",
        "colab": {}
      },
      "source": [
        "def data_loader_all_v2(func, files, folder='', train_label=None, event_time=10, nrows=60):   \n",
        "    func_fixed = partial(func, folder=folder, train_label=train_label, event_time=event_time, nrows=nrows)     \n",
        "    if __name__ == '__main__':\n",
        "        pool = Pool(processes=multiprocessing.cpu_count()) \n",
        "        df_list = list(pool.imap(func_fixed, files)) \n",
        "        pool.close()\n",
        "        pool.join()        \n",
        "    combined_df = pd.concat(df_list)    \n",
        "    return combined_df"
      ],
      "execution_count": 0,
      "outputs": []
    },
    {
      "cell_type": "code",
      "metadata": {
        "id": "nxqdYQQqz0KZ",
        "colab_type": "code",
        "colab": {}
      },
      "source": [
        "# chunksize = 10000\n",
        "# tfr = pd.read_csv(\"/content/drive/My Drive/Nuclear_SemiProj/output/v2_train_data.csv\", chunksize=chunksize, iterator=True)\n",
        "# train = pd.concat(tfr, ignore_index=True)"
      ],
      "execution_count": 0,
      "outputs": []
    },
    {
      "cell_type": "code",
      "metadata": {
        "id": "WxeGbTDyVmW-",
        "colab_type": "code",
        "colab": {}
      },
      "source": [
        "# train = data_loader_all_v2(data_loader_v2, train_list, folder=train_folder, train_label=train_label, event_time=10, nrows=60)"
      ],
      "execution_count": 0,
      "outputs": []
    },
    {
      "cell_type": "code",
      "metadata": {
        "id": "sktTquGkc1kS",
        "colab_type": "code",
        "outputId": "cff8783b-fc0d-44c2-9f39-55ee251d6c97",
        "colab": {
          "base_uri": "https://localhost:8080/",
          "height": 269
        }
      },
      "source": [
        "# print(train)\n",
        "# train.to_csv(\"/content/drive/My Drive/Nuclear_SemiProj/output/zeros_data_loading2.csv\", chunksize=10000)"
      ],
      "execution_count": 0,
      "outputs": [
        {
          "output_type": "stream",
          "text": [
            "           V0000     V0001     V0002  ...  V5119  V5120  label\n",
            "0      30.474394  8.691177  8.714483  ...   85.4    0.0    110\n",
            "1      30.470463  8.736521  8.682769  ...   85.4    0.0    110\n",
            "2      30.465427  8.753559  8.663426  ...   85.4    0.0    110\n",
            "3      30.458532  8.715056  8.714854  ...   85.4    0.0    110\n",
            "4      30.475773  8.790241  8.735125  ...   85.4    0.0    110\n",
            "...          ...       ...       ...  ...    ...    ...    ...\n",
            "41395  30.476523  8.680374  8.689265  ...   85.4    0.0    156\n",
            "41396  30.464995  8.818355  8.688116  ...   85.4    0.0    156\n",
            "41397  30.483490  8.737560  8.706527  ...   85.4    0.0    156\n",
            "41398  30.459609  8.696491  8.685300  ...   85.4    0.0    156\n",
            "41399  30.463722  8.707559  8.710813  ...   85.4    0.0    156\n",
            "\n",
            "[41400 rows x 5122 columns]\n"
          ],
          "name": "stdout"
        }
      ]
    },
    {
      "cell_type": "code",
      "metadata": {
        "id": "arzgxbM9d5R0",
        "colab_type": "code",
        "outputId": "5667eeff-b96f-4cd7-8c74-89fee6c3c2d9",
        "colab": {
          "base_uri": "https://localhost:8080/",
          "height": 565
        }
      },
      "source": [
        "chunksize = 10000\n",
        "tfr = pd.read_csv(\"/content/drive/My Drive/Nuclear_SemiProj/output/B_train.csv\", chunksize=chunksize, iterator=True)\n",
        "b_all_train = pd.concat(tfr, ignore_index=True)\n",
        "\n",
        "print(b_all_train)\n",
        "\n",
        "\n",
        "\n",
        "chunksize = 10000\n",
        "tfr = pd.read_csv(\"/content/drive/My Drive/Nuclear_SemiProj/output/B_train_except30.csv\", chunksize=chunksize, iterator=True)\n",
        "b_train_except30 = pd.concat(tfr, ignore_index=True)\n",
        "\n",
        "print(b_train_except30)"
      ],
      "execution_count": 0,
      "outputs": [
        {
          "output_type": "stream",
          "text": [
            "/usr/local/lib/python3.6/dist-packages/IPython/core/interactiveshell.py:2882: DtypeWarning: Columns (21,22,23,24,25,26,36,37,38,39,40,41,88,89,90,91,223,224,225,226,227,228,229,230,231,232,233,234,235,236,237,238,239,240,241,242,245,248,251,254,257,260,263,266,269,272,275,278,281,284,287,290,293,296,339,342,345,348,351,354,357,360,363,366,369,372,375,378,381,384,387,527,544,546,547,548,549,550,551,755,756,757,782,783,810,811,821,822,823,824,953,954,955,956,957,958,959,960,961,962,963,1107,1108,1122,1123,1124,1125,1134,1195,1196,1197,1198,1269,1270,1271,1272,1273,1274,1281,1316,1399,1400,1401,1402,1403,1404,1405,1406,1407,1408,1409,1410,1411,1412,1413,1414,1415,1416,1417,1418,1419,1420,1421,1422,1423,1424,1425,1426,1427,1428,1429,1430,1448,1449,1450,1451,1456,1461,1465,1466,1467,1468,1479,1480,1481,1482,1483,1484,1494,1495,1496,1501,1502,1565,1566,1567,1568,1723,1724,1725,1726,1727,1728,1729,1730,1731,1732,1733,1734,1735,1736,1737,1738,1741,1742,1743,1744,1745,1746,1747,1748,1749,1750,1751,1752,1753,1754,1755,1756,1757,1758,1759,1760,1774,1775,1776,1777,1778,1779,1780,1781,1782,1783,1784,1833,1834,2205,2206,2207,2208,2209,2210,2211,2212,2213,2214,2215,2216,2217,2218,2396,2403,2404,2405,2406,2407,2408,2409,2410,2411,2412,2413,2414,2415,2416,2417,2418,2419,2420,2421,2422,2423,2462,2463,2464,2465,2466,2467,2468,2469,2470,2471,2472,2473,2474,2475,2476,2477,2478,2479,2480,2481,2482,2483,2484,2485,2486,2487,2488,2489,2490,2491,2492,2493,2494,2495,2496,2497,2498,2499,2500,2501,2502,2503,2504,2505,2506,2507,2508,2509,2572,2573,2684,2685,2686,2687,2688,2801,2802,2803,2810,2811,2812,2819,2820,2821,2822,2842,2843,2844,2845,2846,2871,2872,2873,2874,2875,2876,2877,3111,3112,3113,3114,3115,3116,3117,3179,3180,3189,3190,3191,3192,3193,3284,3285,3369,3370,3371,3372,3373,3374,3375,3376,3413,3414,3415,3416,3417,3418,3419,3420,3421,3422,3423,3424,3425,3426,3427,3428,3429,3430,3431,3432,3433,3448,3449,3450,3451,3452,3453,3454,3455,3456,3457,3519,3521,3522,3547,3548,3553,3554,3555,3556,3557,3558,3559,3560,3563,3564,3569,3580,3581,3582,3583,3605,3632,3633,3634,3635,3636,3637,3638,3639,3642,3643,3644,3645,3646,3647,3648,3649,3650,3651,3652,3653,3654,3655,3656,3657,3658,3659,3660,3663,3667,3671,3674,3694,3695,3696,3697,3698,3699,3700,3701,3702,3703,3704,3705,3706,3707,3708,3709,3710,3711,3724,3727,3728,3729,3730,3731,3732,3733,3734,3735,3736,3737,3738,3739,3740,3741,3742,3743,3744,3745,3746,3747,3748,3749,3750,3751,3752,3753,3754,3755,3756,3757,3758,3759,3760,3761,3762,3763,3764,3765,3766,3767,3768,3769,3770,3771,3772,3773,3774,3775,3776,3777,3778,3779,3780,3781,3782,3783,3784,3785,3786,3787,3788,3789,3790,3791,3792,3793,3794,3795,3796,3797,3798,3799,3800,3801,3802,3803,3804,3805,3806,3807,3808,3809,3810,3811,3814,3815,3816,3817,3820,3821,3822,3830,3831,3832,3833,3834,3835,3836,3837,3838,3839,3840,3845,3846,3847,3848,3849,3850,3915,3916,3917,3918,3919,3920,3921,3922,3923,3924,3925,3926,3927,3928,3929,3930,3931,3932,3933,3934,3935,3936,3937,3938,3939,3940,3941,3942,3943,3944,3945,3946,3947,3948,3949,3950,3951,3952,3953,3954,3955,3956,3957,3958,3959,3960,3961,3962,3963,3964,3965,3966,3967,3968,3969,3970,3971,3972,3973,3974,3975,3976,3977,3982,3983,3984,3985,3986,3987,3988,3989,3990,3991,3992,3993,3994,3995,3996,3997,3998,3999,4000,4001,4002,4003,4004,4005,4006,4007,4008,4009,4010,4011,4012,4013,4014,4015,4016,4017,4018,4019,4020,4021,4022,4047,4048,4049,4050,4051,4052,4053,4054,4055,4056,4057,4058,4059,4060,4061,4062,4063,4070,4071,4072,4073,4074,4075,4076,4077,4078,4079,4080,4081,4090,4091,4092,4093,4094,4095,4101,4102,4103,4104,4105,4106,4107,4108,4109,4110,4111,4112,4133,4134,4135,4136,4137,4138,4139,4140,4141,4142,4143,4144,4151,4152,4153,4154,4155,4156,4165,4166,4167,4168,4179,4180,4181,4182,4183,4184,4185,4186,4187,4188,4193,4195,4196,4197,4198,4199,4200,4201,4202,4203,4204,4205,4206,4207,4208,4209,4210,4230,4231,4233,4234,4235,4236,4237,4238,4239,4240,4241,4242,4243,4244,4245,4246,4247,4248,4249,4250,4253,4254,4258,4259,4260,4261,4264,4267,4268,4269,4270,4271,4272,4273,4274,4275,4276,4279,4280,4281,4282,4283,4284,4285,4286,4287,4288,4289,4290,4291,4292,4293,4294,4295,4296,4297,4298,4299,4300,4301,4302,4303,4314,4315,4316,4322,4323,4324,4765,4770,4771,4772,4773,4774,4775,4776,4777,4778,4779,4780,4781,4782,4783,4784,4785,4786,4787,4788,4789,4790,4791,4792,4793,4794,4795,4796,4831,4832,4833,4834,4859,4860,4861,4862,4863,4864,4865,4866,4867,4868,4869,4870,4871,4872,4873,4874,4875,4876,4898,4899,4900,4901,4902,4903,4904,4905,4906,4907,4908,4909,4910,4911,4912,4913,4914,4915,4916,4917,4918,4919,4931,4932,4933,4934,4935,4936,4937,4938,4939,4940,4941,4942,4943,4944,4945,4946,4947,4948,4949,4950,4951,4952,4953,4954,4955,4956,4957,4958,4959,4960,4969,4974,4975,4976,4977,5028,5029,5030,5031,5032,5033,5034,5035,5036,5037,5038,5039,5040,5041,5042,5043,5044,5045,5046,5047,5048,5049,5050,5051,5052,5053,5054,5055,5056,5057,5058,5059,5060,5061,5062,5063,5064,5065,5066,5067,5068,5069,5070,5071,5072,5073,5074,5075,5083,5084,5085,5093,5094,5095,5096,5097,5098,5099,5100,5101,5102,5103,5104,5105,5106,5107,5108,5109,5110,5111,5112,5113,5114,5115,5116,5117,5121) have mixed types. Specify dtype option on import or set low_memory=False.\n",
            "  exec(code_obj, self.user_global_ns, self.user_ns)\n"
          ],
          "name": "stderr"
        },
        {
          "output_type": "stream",
          "text": [
            "       id  time      V0000     V0001  ...         V5118  V5119  V5120  label\n",
            "0       0    10  30.474394  8.691177  ...  1.421620e-05   85.4    0.0    110\n",
            "1       0    11  30.470463  8.736521  ... -6.114455e-06   85.4    0.0    110\n",
            "2       0    12  30.465427  8.753559  ... -1.813291e-05   85.4    0.0    110\n",
            "3       0    13  30.458532  8.715056  ... -5.745568e-07   85.4    0.0    110\n",
            "4       0    14  30.475773  8.790241  ...  8.437883e-06   85.4    0.0    110\n",
            "...    ..   ...        ...       ...  ...           ...    ...    ...    ...\n",
            "74515  99    95  30.461071  8.832773  ...  2.017627e-05   85.4    0.0    156\n",
            "74516  99    96  30.457940  8.837284  ...  1.483670e-05   85.4    0.0    156\n",
            "74517  99    97  30.461697  8.686145  ... -5.257660e-06   85.4    0.0    156\n",
            "74518  99    98  30.491715  8.810111  ...  1.234890e-06   85.4    0.0    156\n",
            "74519  99    99  30.470894  8.694118  ...  6.079302e-06   85.4    0.0    156\n",
            "\n",
            "[74520 rows x 5124 columns]\n",
            "       id  time      V0000     V0001  ...         V5118  V5119  V5120  label\n",
            "0       0    10  30.474394  8.691177  ...  1.421620e-05   85.4    0.0    110\n",
            "1       0    11  30.470463  8.736521  ... -6.114455e-06   85.4    0.0    110\n",
            "2       0    12  30.465427  8.753559  ... -1.813291e-05   85.4    0.0    110\n",
            "3       0    13  30.458532  8.715056  ... -5.745568e-07   85.4    0.0    110\n",
            "4       0    14  30.475773  8.790241  ...  8.437883e-06   85.4    0.0    110\n",
            "...    ..   ...        ...       ...  ...           ...    ...    ...    ...\n",
            "74425  99    95  30.461071  8.832773  ...  2.017627e-05   85.4    0.0    156\n",
            "74426  99    96  30.457940  8.837284  ...  1.483670e-05   85.4    0.0    156\n",
            "74427  99    97  30.461697  8.686145  ... -5.257660e-06   85.4    0.0    156\n",
            "74428  99    98  30.491715  8.810111  ...  1.234890e-06   85.4    0.0    156\n",
            "74429  99    99  30.470894  8.694118  ...  6.079302e-06   85.4    0.0    156\n",
            "\n",
            "[74430 rows x 5124 columns]\n"
          ],
          "name": "stdout"
        }
      ]
    },
    {
      "cell_type": "code",
      "metadata": {
        "id": "7Iof7k3tAE3Z",
        "colab_type": "code",
        "colab": {}
      },
      "source": [
        "#mean_values = b_train_except30[idx_list_].mean()"
      ],
      "execution_count": 0,
      "outputs": []
    },
    {
      "cell_type": "code",
      "metadata": {
        "id": "oYEnmlvdD4tT",
        "colab_type": "code",
        "outputId": "71b0d939-a4f5-4bbe-854c-5f48d63e8937",
        "colab": {
          "base_uri": "https://localhost:8080/",
          "height": 233
        }
      },
      "source": [
        "print(mean_values)"
      ],
      "execution_count": 0,
      "outputs": [
        {
          "output_type": "stream",
          "text": [
            "V0019    -0.000100\n",
            "V0020    -0.000100\n",
            "V0021    -0.000100\n",
            "V0022    -0.000100\n",
            "V0023    -0.000100\n",
            "           ...    \n",
            "V5112     1.000000\n",
            "V5113     1.000000\n",
            "V5114     1.000000\n",
            "V5115    58.831903\n",
            "V5119    82.385155\n",
            "Length: 1117, dtype: float64\n"
          ],
          "name": "stdout"
        }
      ]
    },
    {
      "cell_type": "code",
      "metadata": {
        "id": "D_cRCRm5Bmjd",
        "colab_type": "code",
        "colab": {}
      },
      "source": [
        "# for mean_idx in mean_values.index:\n",
        "#   print(mean_values[mean_idx])"
      ],
      "execution_count": 0,
      "outputs": []
    },
    {
      "cell_type": "code",
      "metadata": {
        "id": "bBDiOIwdgWf5",
        "colab_type": "code",
        "colab": {}
      },
      "source": [
        "# print(b_all_train)\n",
        "\n",
        "# print(pd.to_numeric(b_all_train, errors='coerce').isnull())\n",
        "\n",
        "# number_exclusion = b_all_train.select_dtypes(exclude=['number'])\n",
        "\n",
        "#vec1 = b_all_train.applymap(np.isreal).any(1)\n",
        "\n",
        "# check if all column contains non-numeric val\n",
        "\n",
        "#vec1 = b_all_train.apply(lambda s: pd.to_numeric(s[0], errors='coerce').notnull().all())\n",
        "\n",
        "thirty_df = pd.read_csv(\"/content/drive/My Drive/Nuclear_SemiProj/output/train/30.csv\")\n",
        "\n",
        "p_series = thirty_df.iloc[9]\n",
        "\n",
        "non_numeric_data = pd.to_numeric(p_series, errors='coerce').isnull()\n",
        "\n",
        "idx_list_ = non_numeric_data[non_numeric_data].index\n",
        "\n",
        "#b_all_train\n",
        "#print(thirty_df.iloc[10])\n",
        "\n",
        "\n",
        "#for col in b_all_train:\n",
        "#  print(pd.to_numeric(b_all_train[col][0], errors='coerce')\n",
        "\n",
        "\n",
        "#print(vec1)"
      ],
      "execution_count": 0,
      "outputs": []
    },
    {
      "cell_type": "code",
      "metadata": {
        "id": "H0t1_LIGG5vF",
        "colab_type": "code",
        "outputId": "78625a77-dab4-40d6-b34a-c3a87474b3c2",
        "colab": {
          "base_uri": "https://localhost:8080/",
          "height": 269
        }
      },
      "source": [
        "# chunksize = 10000\n",
        "# tfr = pd.read_csv(\"/content/drive/My Drive/Nuclear_SemiProj/output/v2_train_data.csv\", chunksize=chunksize, iterator=True)\n",
        "# b_all_60_train = pd.concat(tfr, ignore_index=True)\n",
        "\n",
        "# print(b_all_60_train)\n"
      ],
      "execution_count": 0,
      "outputs": [
        {
          "output_type": "stream",
          "text": [
            "           V0000     V0001     V0002  ...  V5119  V5120  label\n",
            "0      30.474394  8.691177  8.714483  ...   85.4    0.0    110\n",
            "1      30.470463  8.736521  8.682769  ...   85.4    0.0    110\n",
            "2      30.465427  8.753559  8.663426  ...   85.4    0.0    110\n",
            "3      30.458532  8.715056  8.714854  ...   85.4    0.0    110\n",
            "4      30.475773  8.790241  8.735125  ...   85.4    0.0    110\n",
            "...          ...       ...       ...  ...    ...    ...    ...\n",
            "41395  30.476523  8.680374  8.689265  ...   85.4    0.0    156\n",
            "41396  30.464995  8.818355  8.688116  ...   85.4    0.0    156\n",
            "41397  30.483490  8.737560  8.706527  ...   85.4    0.0    156\n",
            "41398  30.459609  8.696491  8.685300  ...   85.4    0.0    156\n",
            "41399  30.463722  8.707559  8.710813  ...   85.4    0.0    156\n",
            "\n",
            "[41400 rows x 5122 columns]\n"
          ],
          "name": "stdout"
        }
      ]
    },
    {
      "cell_type": "code",
      "metadata": {
        "id": "FnxeByGvIv_H",
        "colab_type": "code",
        "outputId": "09efa080-1616-4057-9002-d256ae798b94",
        "colab": {
          "base_uri": "https://localhost:8080/",
          "height": 228
        }
      },
      "source": [
        "mean_values = b_train_except30[idx_list_].mean()\n",
        "print(mean_values)"
      ],
      "execution_count": 0,
      "outputs": [
        {
          "output_type": "stream",
          "text": [
            "V0019    -0.000100\n",
            "V0020    -0.000100\n",
            "V0021    -0.000100\n",
            "V0022    -0.000100\n",
            "V0023    -0.000100\n",
            "           ...    \n",
            "V5112     1.000000\n",
            "V5113     1.000000\n",
            "V5114     1.000000\n",
            "V5115    58.831903\n",
            "V5119    82.385155\n",
            "Length: 1117, dtype: float64\n"
          ],
          "name": "stdout"
        }
      ]
    },
    {
      "cell_type": "code",
      "metadata": {
        "id": "UNdYKNyGB7jd",
        "colab_type": "code",
        "colab": {}
      },
      "source": [
        "for mean_idx in mean_values.index:\n",
        "  print(b_all_train.loc[b_all_train['id'] == 30, mean_idx])\n",
        "  b_all_train.loc[b_all_train['id'] == 30, mean_idx] = mean_values[mean_idx]\n",
        "\n",
        "  print(b_all_train.loc[b_all_train['id'] == 30, mean_idx])\n",
        "  #print(mean_values[mean_idx])\n",
        "\n"
      ],
      "execution_count": 0,
      "outputs": []
    },
    {
      "cell_type": "code",
      "metadata": {
        "id": "ef6K90JzEvtm",
        "colab_type": "code",
        "colab": {}
      },
      "source": [
        "#b_all_train.to_csv(\"/content/drive/My Drive/Nuclear_SemiProj/output/b_all_train.csv\", chunksize=10000, index=False)\n",
        "\n",
        "# read \n",
        "\n",
        "chunksize = 10000\n",
        "tfr = pd.read_csv(\"/content/drive/My Drive/Nuclear_SemiProj/output/b_all_train.csv\", chunksize=chunksize, iterator=True)\n",
        "b_all_train = pd.concat(tfr, ignore_index=True)\n"
      ],
      "execution_count": 0,
      "outputs": []
    },
    {
      "cell_type": "code",
      "metadata": {
        "id": "t-PRmMeWQXhG",
        "colab_type": "code",
        "outputId": "7721a9d2-3dc5-4540-cc2e-dde2f7700967",
        "colab": {
          "base_uri": "https://localhost:8080/",
          "height": 263
        }
      },
      "source": [
        "print(b_all_train)"
      ],
      "execution_count": 0,
      "outputs": [
        {
          "output_type": "stream",
          "text": [
            "       id  time      V0000     V0001  ...         V5118  V5119  V5120  label\n",
            "0       0    10  30.474394  8.691177  ...  1.421620e-05   85.4    0.0    110\n",
            "1       0    11  30.470463  8.736521  ... -6.114455e-06   85.4    0.0    110\n",
            "2       0    12  30.465427  8.753559  ... -1.813291e-05   85.4    0.0    110\n",
            "3       0    13  30.458532  8.715056  ... -5.745568e-07   85.4    0.0    110\n",
            "4       0    14  30.475773  8.790241  ...  8.437883e-06   85.4    0.0    110\n",
            "...    ..   ...        ...       ...  ...           ...    ...    ...    ...\n",
            "74515  99    95  30.461071  8.832773  ...  2.017627e-05   85.4    0.0    156\n",
            "74516  99    96  30.457940  8.837284  ...  1.483670e-05   85.4    0.0    156\n",
            "74517  99    97  30.461697  8.686145  ... -5.257660e-06   85.4    0.0    156\n",
            "74518  99    98  30.491715  8.810111  ...  1.234890e-06   85.4    0.0    156\n",
            "74519  99    99  30.470894  8.694118  ...  6.079302e-06   85.4    0.0    156\n",
            "\n",
            "[74520 rows x 5124 columns]\n"
          ],
          "name": "stdout"
        }
      ]
    },
    {
      "cell_type": "code",
      "metadata": {
        "id": "oTN9yGQ3gYsR",
        "colab_type": "code",
        "colab": {}
      },
      "source": [
        "# # standardize data\n",
        "# from sklearn.preprocessing import StandardScaler\n",
        "# from sklearn.preprocessing import Normalizer\n",
        "\n",
        "# X_train = train.drop(['label'], axis=1)\n",
        "# y_train = train['label']\n",
        "\n",
        "# print(X_train.index)\n",
        "\n",
        "# standard_scaler = StandardScaler().fit(X_train)\n",
        "# normal_scaler = Normalizer().fit(X_train)\n",
        "\n",
        "# rescaledX_train = standard_scaler.transform(X_train)\n",
        "# normalizedX_train = normal_scaler.transform(X_train)\n",
        "\n",
        "b_all_train_edit = b_all_train.drop([\"time\", \"id\"], axis=1)\n",
        "#print(b_all_train_edit)\n",
        "\n",
        "# 이것은 30번 째 csv를 바꾸고 나서다 ㅅㅂ \n",
        "X_train = b_all_train_edit.drop(['label'], axis=1)\n",
        "y_train = b_all_train_edit['label']\n",
        "\n",
        "\n",
        "##Train\n",
        "\n",
        "\n",
        "\n",
        "\n"
      ],
      "execution_count": 0,
      "outputs": []
    },
    {
      "cell_type": "code",
      "metadata": {
        "id": "cmHXjuJXV3NL",
        "colab_type": "code",
        "outputId": "18fb4859-8dcb-4f45-d42f-7058ee9c490b",
        "colab": {
          "base_uri": "https://localhost:8080/",
          "height": 474
        }
      },
      "source": [
        "print(X_train)\n",
        "print(y_train)"
      ],
      "execution_count": 0,
      "outputs": [
        {
          "output_type": "stream",
          "text": [
            "           V0000     V0001     V0002  ...         V5118  V5119  V5120\n",
            "0      30.474394  8.691177  8.714483  ...  1.421620e-05   85.4    0.0\n",
            "1      30.470463  8.736521  8.682769  ... -6.114455e-06   85.4    0.0\n",
            "2      30.465427  8.753559  8.663426  ... -1.813291e-05   85.4    0.0\n",
            "3      30.458532  8.715056  8.714854  ... -5.745568e-07   85.4    0.0\n",
            "4      30.475773  8.790241  8.735125  ...  8.437883e-06   85.4    0.0\n",
            "...          ...       ...       ...  ...           ...    ...    ...\n",
            "74515  30.461071  8.832773  8.705191  ...  2.017627e-05   85.4    0.0\n",
            "74516  30.457940  8.837284  8.681739  ...  1.483670e-05   85.4    0.0\n",
            "74517  30.461697  8.686145  8.710533  ... -5.257660e-06   85.4    0.0\n",
            "74518  30.491715  8.810111  8.706581  ...  1.234890e-06   85.4    0.0\n",
            "74519  30.470894  8.694118  8.710004  ...  6.079302e-06   85.4    0.0\n",
            "\n",
            "[74520 rows x 5121 columns]\n",
            "0        110\n",
            "1        110\n",
            "2        110\n",
            "3        110\n",
            "4        110\n",
            "        ... \n",
            "74515    156\n",
            "74516    156\n",
            "74517    156\n",
            "74518    156\n",
            "74519    156\n",
            "Name: label, Length: 74520, dtype: int64\n"
          ],
          "name": "stdout"
        }
      ]
    },
    {
      "cell_type": "code",
      "metadata": {
        "id": "DW3cQof3Vrq-",
        "colab_type": "code",
        "outputId": "1e11d637-af71-4b24-e509-cdbe4e1c7acb",
        "colab": {
          "base_uri": "https://localhost:8080/",
          "height": 210
        }
      },
      "source": [
        "\n",
        "model = RandomForestClassifier(random_state=0, verbose=1, n_jobs=-1)\n",
        "model.fit(X_train, y_train)\n",
        "# joblib.dump(model, 'model.pkl')\n"
      ],
      "execution_count": 0,
      "outputs": [
        {
          "output_type": "stream",
          "text": [
            "[Parallel(n_jobs=-1)]: Using backend ThreadingBackend with 4 concurrent workers.\n",
            "[Parallel(n_jobs=-1)]: Done  42 tasks      | elapsed:  4.2min\n",
            "[Parallel(n_jobs=-1)]: Done 100 out of 100 | elapsed:  9.6min finished\n"
          ],
          "name": "stderr"
        },
        {
          "output_type": "execute_result",
          "data": {
            "text/plain": [
              "RandomForestClassifier(bootstrap=True, ccp_alpha=0.0, class_weight=None,\n",
              "                       criterion='gini', max_depth=None, max_features='auto',\n",
              "                       max_leaf_nodes=None, max_samples=None,\n",
              "                       min_impurity_decrease=0.0, min_impurity_split=None,\n",
              "                       min_samples_leaf=1, min_samples_split=2,\n",
              "                       min_weight_fraction_leaf=0.0, n_estimators=100,\n",
              "                       n_jobs=-1, oob_score=False, random_state=0, verbose=1,\n",
              "                       warm_start=False)"
            ]
          },
          "metadata": {
            "tags": []
          },
          "execution_count": 7
        }
      ]
    },
    {
      "cell_type": "code",
      "metadata": {
        "id": "ggFc7SFdVyrv",
        "colab_type": "code",
        "colab": {}
      },
      "source": [
        "##Prediciton\n",
        "test = data_loader_all_v2(data_loader_v2, test_list, folder=test_folder, train_label=None, event_time=10, nrows=60)\n",
        "\n",
        "# chunksize = 10000\n",
        "# tfr = pd.read_csv(\"/content/drive/My Drive/Nuclear_SemiProj/output/test.csv\", chunksize=chunksize, iterator=True)\n",
        "# test1 = pd.concat(tfr, ignore_index=True)\n",
        "\n",
        "\n",
        "\n",
        "\n"
      ],
      "execution_count": 0,
      "outputs": []
    },
    {
      "cell_type": "code",
      "metadata": {
        "id": "9sAEWWOGKdGG",
        "colab_type": "code",
        "outputId": "ed4a21f5-26e2-4b70-aa80-329216bbe4c1",
        "colab": {
          "base_uri": "https://localhost:8080/",
          "height": 521
        }
      },
      "source": [
        "print(test)\n",
        "\n",
        "# test_1 = test.copy()\n",
        "\n",
        "# test_1['id'] = test_1.index \n",
        "# # print(test_idx[test_idx == 998])\n",
        "\n",
        "# print(test_1)\n",
        "# #print(test.index)\n",
        "\n",
        "# test_1.to_csv(\"/content/drive/My Drive/Nuclear_SemiProj/output/test_id_1.csv\", chunksize=10000, index=False)"
      ],
      "execution_count": 0,
      "outputs": [
        {
          "output_type": "stream",
          "text": [
            "          V0000     V0001     V0002     V0003  ...  V5117     V5118  V5119  V5120\n",
            "1000  30.465741  8.618514  8.705075  8.730912  ...    0.0  0.000004   85.4    0.0\n",
            "1000  30.477302  8.642689  8.713423  8.732450  ...    0.0  0.000005   85.4    0.0\n",
            "1000  30.478336  8.675928  8.729837  8.672877  ...    0.0  0.000016   85.4    0.0\n",
            "1000  30.462904  8.733765  8.706455  8.691974  ...    0.0 -0.000010   85.4    0.0\n",
            "1000  30.483675  8.807382  8.680733  8.713651  ...    0.0 -0.000008   85.4    0.0\n",
            "...         ...       ...       ...       ...  ...    ...       ...    ...    ...\n",
            "999   30.462765  8.636107  8.717540  8.714714  ...    0.0 -0.000002   85.4    0.0\n",
            "999   30.486345  8.687652  8.662559  8.723882  ...    0.0 -0.000005   85.4    0.0\n",
            "999   30.471584  8.658865  8.692842  8.704296  ...    0.0  0.000006   85.4    0.0\n",
            "999   30.464907  8.784168  8.716839  8.723631  ...    0.0  0.000003   85.4    0.0\n",
            "999   30.476896  8.730331  8.695446  8.731110  ...    0.0  0.000004   85.4    0.0\n",
            "\n",
            "[36000 rows x 5121 columns]\n",
            "          V0000     V0001     V0002     V0003  ...     V5118  V5119  V5120    id\n",
            "1000  30.465741  8.618514  8.705075  8.730912  ...  0.000004   85.4    0.0  1000\n",
            "1000  30.477302  8.642689  8.713423  8.732450  ...  0.000005   85.4    0.0  1000\n",
            "1000  30.478336  8.675928  8.729837  8.672877  ...  0.000016   85.4    0.0  1000\n",
            "1000  30.462904  8.733765  8.706455  8.691974  ... -0.000010   85.4    0.0  1000\n",
            "1000  30.483675  8.807382  8.680733  8.713651  ... -0.000008   85.4    0.0  1000\n",
            "...         ...       ...       ...       ...  ...       ...    ...    ...   ...\n",
            "999   30.462765  8.636107  8.717540  8.714714  ... -0.000002   85.4    0.0   999\n",
            "999   30.486345  8.687652  8.662559  8.723882  ... -0.000005   85.4    0.0   999\n",
            "999   30.471584  8.658865  8.692842  8.704296  ...  0.000006   85.4    0.0   999\n",
            "999   30.464907  8.784168  8.716839  8.723631  ...  0.000003   85.4    0.0   999\n",
            "999   30.476896  8.730331  8.695446  8.731110  ...  0.000004   85.4    0.0   999\n",
            "\n",
            "[36000 rows x 5122 columns]\n"
          ],
          "name": "stdout"
        }
      ]
    },
    {
      "cell_type": "code",
      "metadata": {
        "id": "oa_vebjQysU8",
        "colab_type": "code",
        "colab": {}
      },
      "source": [
        "chunksize = 10000\n",
        "tfr = pd.read_csv(\"/content/drive/My Drive/Nuclear_SemiProj/output/test_id_1.csv\", chunksize=chunksize, iterator=True)\n",
        "test1 = pd.concat(tfr, ignore_index=True)"
      ],
      "execution_count": 0,
      "outputs": []
    },
    {
      "cell_type": "code",
      "metadata": {
        "id": "zK_mBL0DzRAm",
        "colab_type": "code",
        "outputId": "10f31a8b-ca52-425b-9212-3d30e94dced1",
        "colab": {
          "base_uri": "https://localhost:8080/",
          "height": 263
        }
      },
      "source": [
        "#test1.set_index(\"id\", inplace=True)\n",
        "\n",
        "test1.index.name = None\n",
        "\n",
        "print(test1)"
      ],
      "execution_count": 0,
      "outputs": [
        {
          "output_type": "stream",
          "text": [
            "          V0000     V0001     V0002     V0003  ...  V5117     V5118  V5119  V5120\n",
            "1000  30.465741  8.618514  8.705075  8.730912  ...    0.0  0.000004   85.4    0.0\n",
            "1000  30.477302  8.642689  8.713423  8.732450  ...    0.0  0.000005   85.4    0.0\n",
            "1000  30.478336  8.675928  8.729837  8.672877  ...    0.0  0.000016   85.4    0.0\n",
            "1000  30.462904  8.733765  8.706455  8.691974  ...    0.0 -0.000010   85.4    0.0\n",
            "1000  30.483675  8.807382  8.680733  8.713651  ...    0.0 -0.000008   85.4    0.0\n",
            "...         ...       ...       ...       ...  ...    ...       ...    ...    ...\n",
            "999   30.462765  8.636107  8.717540  8.714714  ...    0.0 -0.000002   85.4    0.0\n",
            "999   30.486345  8.687652  8.662559  8.723882  ...    0.0 -0.000005   85.4    0.0\n",
            "999   30.471584  8.658865  8.692842  8.704296  ...    0.0  0.000006   85.4    0.0\n",
            "999   30.464907  8.784168  8.716839  8.723631  ...    0.0  0.000003   85.4    0.0\n",
            "999   30.476896  8.730331  8.695446  8.731110  ...    0.0  0.000004   85.4    0.0\n",
            "\n",
            "[36000 rows x 5121 columns]\n"
          ],
          "name": "stdout"
        }
      ]
    },
    {
      "cell_type": "code",
      "metadata": {
        "id": "DU1_c-YYV0xO",
        "colab_type": "code",
        "outputId": "f4d48590-e648-4548-fb57-694ef3ab8b38",
        "colab": {
          "base_uri": "https://localhost:8080/",
          "height": 70
        }
      },
      "source": [
        "# model = joblib.load('model.pkl') \n",
        "pred = model.predict_proba(test1)"
      ],
      "execution_count": 0,
      "outputs": [
        {
          "output_type": "stream",
          "text": [
            "[Parallel(n_jobs=4)]: Using backend ThreadingBackend with 4 concurrent workers.\n",
            "[Parallel(n_jobs=4)]: Done  42 tasks      | elapsed:    0.9s\n",
            "[Parallel(n_jobs=4)]: Done 100 out of 100 | elapsed:    2.2s finished\n"
          ],
          "name": "stderr"
        }
      ]
    },
    {
      "cell_type": "code",
      "metadata": {
        "id": "exScvthGV4Jf",
        "colab_type": "code",
        "colab": {}
      },
      "source": [
        "# 제출파일 만들기 \n",
        "submission = pd.DataFrame(data=pred)\n",
        "submission.index = test1.index\n",
        "submission.index.name = 'id'\n",
        "submission = submission.sort_index()\n",
        "submission = submission.groupby('id').mean()\n",
        "submission.to_csv('/content/drive/My Drive/submission/submission_all_mean.csv', index=True) #제출 파일 만들기"
      ],
      "execution_count": 0,
      "outputs": []
    }
  ]
}