{
  "nbformat": 4,
  "nbformat_minor": 0,
  "metadata": {
    "colab": {
      "name": "data_loader.ipynb",
      "provenance": [],
      "machine_shape": "hm",
      "include_colab_link": true
    },
    "kernelspec": {
      "name": "python3",
      "display_name": "Python 3"
    },
    "accelerator": "GPU"
  },
  "cells": [
    {
      "cell_type": "markdown",
      "metadata": {
        "id": "view-in-github",
        "colab_type": "text"
      },
      "source": [
        "<a href=\"https://colab.research.google.com/github/yds725/nuclear_plant_proj/blob/code_development/data_loader.ipynb\" target=\"_parent\"><img src=\"https://colab.research.google.com/assets/colab-badge.svg\" alt=\"Open In Colab\"/></a>"
      ]
    },
    {
      "cell_type": "code",
      "metadata": {
        "id": "dO0SRyl57BX_",
        "colab_type": "code",
        "outputId": "85fc230b-29e9-492e-da81-08979f6bad03",
        "colab": {
          "base_uri": "https://localhost:8080/",
          "height": 127
        }
      },
      "source": [
        "from google.colab import drive\n",
        "drive.mount('/content/drive')"
      ],
      "execution_count": 2,
      "outputs": [
        {
          "output_type": "stream",
          "text": [
            "Go to this URL in a browser: https://accounts.google.com/o/oauth2/auth?client_id=947318989803-6bn6qk8qdgf4n4g3pfee6491hc0brc4i.apps.googleusercontent.com&redirect_uri=urn%3aietf%3awg%3aoauth%3a2.0%3aoob&response_type=code&scope=email%20https%3a%2f%2fwww.googleapis.com%2fauth%2fdocs.test%20https%3a%2f%2fwww.googleapis.com%2fauth%2fdrive%20https%3a%2f%2fwww.googleapis.com%2fauth%2fdrive.photos.readonly%20https%3a%2f%2fwww.googleapis.com%2fauth%2fpeopleapi.readonly\n",
            "\n",
            "Enter your authorization code:\n",
            "··········\n",
            "Mounted at /content/drive\n"
          ],
          "name": "stdout"
        }
      ]
    },
    {
      "cell_type": "code",
      "metadata": {
        "id": "e9xIDBinE_Ko",
        "colab_type": "code",
        "colab": {}
      },
      "source": [
        "import pandas as pd\n",
        "import numpy as np\n",
        "\n",
        "\n",
        "\n",
        "def add_id_column(df, file_id):\n",
        "    \n",
        "    id_dataframe = pd.DataFrame({'id' : [file_id for i in range(df.shape[0])]})\n",
        "\n",
        "    df = pd.concat([id_dataframe, df], axis=1)\n",
        "    \n",
        "    return df\n",
        "\n",
        "def data_loader(path, train, nrows, **kwargs):\n",
        "    \n",
        "    '''\n",
        "    Parameters:\n",
        "    \n",
        "    path: [str] train용 또는 test용 csv 파일들이 저장되어 있는 폴더 \n",
        "    train: [boolean] train용 파일들 불러올 시 True, 아니면 False\n",
        "    nrows: [int] csv 파일에서 불러올 상위 n개의 row \n",
        "    lookup_table: [pd.DataFrame] train_label.csv 파일을 저장한 변수 \n",
        "    event_time: [int] 상태_B 발생 시간 \n",
        "    normal: [int] 상태_A의 라벨\n",
        "    \n",
        "    Return:\n",
        "    \n",
        "    data: train 또는 test data\n",
        "    '''\n",
        "    \n",
        "    \n",
        "    # 1. 해당 파일 경로에서 확장자 제외한 파일 이름만 가지고 오기 \n",
        "    file_id = int(path.split('/')[-1].split('.')[0])\n",
        "    \n",
        "    # 2. train일 경우\n",
        "    if train : \n",
        "        \n",
        "        # 2-1 label 정보 저장\n",
        "        lookup_table = kwargs['lookup_table']\n",
        "\n",
        "        file_label = int(lookup_table[lookup_table['id'] == file_id]['label'])\n",
        "        \n",
        "        # 2-2 파일 읽기 \n",
        "        data = pd.read_csv(path, nrows = nrows)\n",
        "        \n",
        "        # 2-3 id컬럼 추가 \n",
        "        data = add_id_column(data, file_id)\n",
        "        \n",
        "        # 2-3 label컬럼 추가 \n",
        "        event_time = kwargs['event_time']\n",
        "\n",
        "        data['label'] = np.concatenate((np.repeat(kwargs['normal'], event_time), np.repeat(file_label, data.shape[0]-event_time)))\n",
        "\n",
        "    # 3. test일 경우 \n",
        "    else : \n",
        "        \n",
        "        # 3-1 파일 읽기\n",
        "        data = pd.read_csv(path, nrows = nrows)\n",
        "        \n",
        "        # 3-2 id컬럼 추가 \n",
        "        data = add_id_column(data, file_id)\n",
        "        \n",
        "    return data\n"
      ],
      "execution_count": 0,
      "outputs": []
    },
    {
      "cell_type": "code",
      "metadata": {
        "id": "01Je2WfoGfhS",
        "colab_type": "code",
        "outputId": "07ccbe01-d83e-4e54-f5e8-0cc1545c5b53",
        "colab": {
          "base_uri": "https://localhost:8080/",
          "height": 35
        }
      },
      "source": [
        "!ls /content/drive/My\\ Drive/Nuclear_SemiProj/*.py"
      ],
      "execution_count": 10,
      "outputs": [
        {
          "output_type": "stream",
          "text": [
            "'/content/drive/My Drive/Nuclear_SemiProj/data_loader.py'\n"
          ],
          "name": "stdout"
        }
      ]
    },
    {
      "cell_type": "code",
      "metadata": {
        "id": "vcbBsPBhIbKN",
        "colab_type": "code",
        "colab": {}
      },
      "source": [
        "import sys\n",
        "sys.path.append('/content/drive/My Drive/Nuclear_SemiProj')"
      ],
      "execution_count": 0,
      "outputs": []
    },
    {
      "cell_type": "code",
      "metadata": {
        "id": "8kVs766i69Fz",
        "colab_type": "code",
        "colab": {}
      },
      "source": [
        "import os\n",
        "import pandas as pd \n",
        "import numpy as np\n",
        "from multiprocessing import Pool \n",
        "import multiprocessing\n",
        "from data_loader import data_loader #data_loader.py 파일을 다운 받아 주셔야 합니다. \n",
        "from tqdm import tqdm\n",
        "from functools import partial"
      ],
      "execution_count": 0,
      "outputs": []
    },
    {
      "cell_type": "code",
      "metadata": {
        "id": "eYL3Mds7PmCm",
        "colab_type": "code",
        "colab": {}
      },
      "source": [
        "from pprint import pprint"
      ],
      "execution_count": 0,
      "outputs": []
    },
    {
      "cell_type": "code",
      "metadata": {
        "id": "fY3pCiGu7E0H",
        "colab_type": "code",
        "colab": {}
      },
      "source": [
        "def data_loader_all(func, path, train, nrows, **kwargs):\n",
        "    '''\n",
        "    Parameters:\n",
        "    \n",
        "    func: 하나의 csv파일을 읽는 함수 \n",
        "    path: [str] train용 또는 test용 csv 파일들이 저장되어 있는 폴더 \n",
        "    train: [boolean] train용 파일들 불러올 시 True, 아니면 False\n",
        "    nrows: [int] csv 파일에서 불러올 상위 n개의 row \n",
        "    lookup_table: [pd.DataFrame] train_label.csv 파일을 저장한 변수 \n",
        "    event_time: [int] 상태_B 발생 시간 \n",
        "    normal: [int] 상태_A의 라벨\n",
        "    \n",
        "    Return:\n",
        "    \n",
        "    combined_df: 병합된 train 또는 test data\n",
        "    '''\n",
        "    \n",
        "    # 읽어올 파일들만 경로 저장 해놓기 \n",
        "    files_in_dir = os.listdir(path)\n",
        "    \n",
        "    files_path = [path+'/'+file for file in files_in_dir]\n",
        "    \n",
        "    if train :\n",
        "        func_fixed = partial(func, nrows = nrows, train = True, lookup_table = kwargs['lookup_table'], event_time = kwargs['event_time'], normal = kwargs['normal'])\n",
        "        \n",
        "    else : \n",
        "        func_fixed = partial(func, nrows = nrows, train = False)\n",
        "    \n",
        "    \n",
        "    # 여러개의 코어를 활용하여 데이터 읽기 \n",
        "    if __name__ == '__main__':\n",
        "        pool = Pool(processes = multiprocessing.cpu_count()) \n",
        "        df_list = list(tqdm(pool.imap(func_fixed, files_path), total = len(files_path)))\n",
        "        pool.close()\n",
        "        pool.join()\n",
        "    \n",
        "    # 데이터 병합하기 \n",
        "    combined_df = pd.concat(df_list, ignore_index=True)\n",
        "    \n",
        "    return combined_df\n",
        "    "
      ],
      "execution_count": 0,
      "outputs": []
    },
    {
      "cell_type": "code",
      "metadata": {
        "id": "XaIcgs6E7VVp",
        "colab_type": "code",
        "outputId": "d6cdc39a-7f4e-432f-9f19-8fb0681c7aeb",
        "colab": {
          "base_uri": "https://localhost:8080/",
          "height": 466
        }
      },
      "source": [
        "## 데이터 읽기\n",
        "train_path = '/content/drive/My Drive/Nuclear_SemiProj/train'\n",
        "test_path = '/content/drive/My Drive/Nuclear_SemiProj/test'\n",
        "label = pd.read_csv('/content/drive/My Drive/Nuclear_SemiProj/train_label.csv')\n",
        "train = data_loader_all(data_loader, path = train_path, train = True, nrows = 100, normal = 999, event_time = 10, lookup_table = label)"
      ],
      "execution_count": 0,
      "outputs": [
        {
          "output_type": "stream",
          "text": [
            "  1%|          | 10/828 [00:05<07:06,  1.92it/s]"
          ],
          "name": "stderr"
        },
        {
          "output_type": "error",
          "ename": "KeyboardInterrupt",
          "evalue": "ignored",
          "traceback": [
            "\u001b[0;31m---------------------------------------------------------------------------\u001b[0m",
            "\u001b[0;31mIndexError\u001b[0m                                Traceback (most recent call last)",
            "\u001b[0;32m/usr/lib/python3.6/multiprocessing/pool.py\u001b[0m in \u001b[0;36mnext\u001b[0;34m(self, timeout)\u001b[0m\n\u001b[1;32m    719\u001b[0m             \u001b[0;32mtry\u001b[0m\u001b[0;34m:\u001b[0m\u001b[0;34m\u001b[0m\u001b[0;34m\u001b[0m\u001b[0m\n\u001b[0;32m--> 720\u001b[0;31m                 \u001b[0mitem\u001b[0m \u001b[0;34m=\u001b[0m \u001b[0mself\u001b[0m\u001b[0;34m.\u001b[0m\u001b[0m_items\u001b[0m\u001b[0;34m.\u001b[0m\u001b[0mpopleft\u001b[0m\u001b[0;34m(\u001b[0m\u001b[0;34m)\u001b[0m\u001b[0;34m\u001b[0m\u001b[0;34m\u001b[0m\u001b[0m\n\u001b[0m\u001b[1;32m    721\u001b[0m             \u001b[0;32mexcept\u001b[0m \u001b[0mIndexError\u001b[0m\u001b[0;34m:\u001b[0m\u001b[0;34m\u001b[0m\u001b[0;34m\u001b[0m\u001b[0m\n",
            "\u001b[0;31mIndexError\u001b[0m: pop from an empty deque",
            "\nDuring handling of the above exception, another exception occurred:\n",
            "\u001b[0;31mKeyboardInterrupt\u001b[0m                         Traceback (most recent call last)",
            "\u001b[0;32m<ipython-input-10-6c877b6a7ab9>\u001b[0m in \u001b[0;36m<module>\u001b[0;34m()\u001b[0m\n\u001b[1;32m      2\u001b[0m \u001b[0mtest_path\u001b[0m \u001b[0;34m=\u001b[0m \u001b[0;34m'/content/drive/My Drive/Nuclear_SemiProj/test'\u001b[0m\u001b[0;34m\u001b[0m\u001b[0;34m\u001b[0m\u001b[0m\n\u001b[1;32m      3\u001b[0m \u001b[0mlabel\u001b[0m \u001b[0;34m=\u001b[0m \u001b[0mpd\u001b[0m\u001b[0;34m.\u001b[0m\u001b[0mread_csv\u001b[0m\u001b[0;34m(\u001b[0m\u001b[0;34m'/content/drive/My Drive/Nuclear_SemiProj/train_label.csv'\u001b[0m\u001b[0;34m)\u001b[0m\u001b[0;34m\u001b[0m\u001b[0;34m\u001b[0m\u001b[0m\n\u001b[0;32m----> 4\u001b[0;31m \u001b[0mtrain\u001b[0m \u001b[0;34m=\u001b[0m \u001b[0mdata_loader_all\u001b[0m\u001b[0;34m(\u001b[0m\u001b[0mdata_loader\u001b[0m\u001b[0;34m,\u001b[0m \u001b[0mpath\u001b[0m \u001b[0;34m=\u001b[0m \u001b[0mtrain_path\u001b[0m\u001b[0;34m,\u001b[0m \u001b[0mtrain\u001b[0m \u001b[0;34m=\u001b[0m \u001b[0;32mTrue\u001b[0m\u001b[0;34m,\u001b[0m \u001b[0mnrows\u001b[0m \u001b[0;34m=\u001b[0m \u001b[0;36m100\u001b[0m\u001b[0;34m,\u001b[0m \u001b[0mnormal\u001b[0m \u001b[0;34m=\u001b[0m \u001b[0;36m999\u001b[0m\u001b[0;34m,\u001b[0m \u001b[0mevent_time\u001b[0m \u001b[0;34m=\u001b[0m \u001b[0;36m10\u001b[0m\u001b[0;34m,\u001b[0m \u001b[0mlookup_table\u001b[0m \u001b[0;34m=\u001b[0m \u001b[0mlabel\u001b[0m\u001b[0;34m)\u001b[0m\u001b[0;34m\u001b[0m\u001b[0;34m\u001b[0m\u001b[0m\n\u001b[0m",
            "\u001b[0;32m<ipython-input-9-5135fa4ff142>\u001b[0m in \u001b[0;36mdata_loader_all\u001b[0;34m(func, path, train, nrows, **kwargs)\u001b[0m\n\u001b[1;32m     31\u001b[0m     \u001b[0;32mif\u001b[0m \u001b[0m__name__\u001b[0m \u001b[0;34m==\u001b[0m \u001b[0;34m'__main__'\u001b[0m\u001b[0;34m:\u001b[0m\u001b[0;34m\u001b[0m\u001b[0;34m\u001b[0m\u001b[0m\n\u001b[1;32m     32\u001b[0m         \u001b[0mpool\u001b[0m \u001b[0;34m=\u001b[0m \u001b[0mPool\u001b[0m\u001b[0;34m(\u001b[0m\u001b[0mprocesses\u001b[0m \u001b[0;34m=\u001b[0m \u001b[0mmultiprocessing\u001b[0m\u001b[0;34m.\u001b[0m\u001b[0mcpu_count\u001b[0m\u001b[0;34m(\u001b[0m\u001b[0;34m)\u001b[0m\u001b[0;34m)\u001b[0m\u001b[0;34m\u001b[0m\u001b[0;34m\u001b[0m\u001b[0m\n\u001b[0;32m---> 33\u001b[0;31m         \u001b[0mdf_list\u001b[0m \u001b[0;34m=\u001b[0m \u001b[0mlist\u001b[0m\u001b[0;34m(\u001b[0m\u001b[0mtqdm\u001b[0m\u001b[0;34m(\u001b[0m\u001b[0mpool\u001b[0m\u001b[0;34m.\u001b[0m\u001b[0mimap\u001b[0m\u001b[0;34m(\u001b[0m\u001b[0mfunc_fixed\u001b[0m\u001b[0;34m,\u001b[0m \u001b[0mfiles_path\u001b[0m\u001b[0;34m)\u001b[0m\u001b[0;34m,\u001b[0m \u001b[0mtotal\u001b[0m \u001b[0;34m=\u001b[0m \u001b[0mlen\u001b[0m\u001b[0;34m(\u001b[0m\u001b[0mfiles_path\u001b[0m\u001b[0;34m)\u001b[0m\u001b[0;34m)\u001b[0m\u001b[0;34m)\u001b[0m\u001b[0;34m\u001b[0m\u001b[0;34m\u001b[0m\u001b[0m\n\u001b[0m\u001b[1;32m     34\u001b[0m         \u001b[0mpool\u001b[0m\u001b[0;34m.\u001b[0m\u001b[0mclose\u001b[0m\u001b[0;34m(\u001b[0m\u001b[0;34m)\u001b[0m\u001b[0;34m\u001b[0m\u001b[0;34m\u001b[0m\u001b[0m\n\u001b[1;32m     35\u001b[0m         \u001b[0mpool\u001b[0m\u001b[0;34m.\u001b[0m\u001b[0mjoin\u001b[0m\u001b[0;34m(\u001b[0m\u001b[0;34m)\u001b[0m\u001b[0;34m\u001b[0m\u001b[0;34m\u001b[0m\u001b[0m\n",
            "\u001b[0;32m/usr/local/lib/python3.6/dist-packages/tqdm/_tqdm.py\u001b[0m in \u001b[0;36m__iter__\u001b[0;34m(self)\u001b[0m\n\u001b[1;32m    977\u001b[0m \"\"\", fp_write=getattr(self.fp, 'write', sys.stderr.write))\n\u001b[1;32m    978\u001b[0m \u001b[0;34m\u001b[0m\u001b[0m\n\u001b[0;32m--> 979\u001b[0;31m             \u001b[0;32mfor\u001b[0m \u001b[0mobj\u001b[0m \u001b[0;32min\u001b[0m \u001b[0miterable\u001b[0m\u001b[0;34m:\u001b[0m\u001b[0;34m\u001b[0m\u001b[0;34m\u001b[0m\u001b[0m\n\u001b[0m\u001b[1;32m    980\u001b[0m                 \u001b[0;32myield\u001b[0m \u001b[0mobj\u001b[0m\u001b[0;34m\u001b[0m\u001b[0;34m\u001b[0m\u001b[0m\n\u001b[1;32m    981\u001b[0m                 \u001b[0;31m# Update and possibly print the progressbar.\u001b[0m\u001b[0;34m\u001b[0m\u001b[0;34m\u001b[0m\u001b[0;34m\u001b[0m\u001b[0m\n",
            "\u001b[0;32m/usr/lib/python3.6/multiprocessing/pool.py\u001b[0m in \u001b[0;36mnext\u001b[0;34m(self, timeout)\u001b[0m\n\u001b[1;32m    722\u001b[0m                 \u001b[0;32mif\u001b[0m \u001b[0mself\u001b[0m\u001b[0;34m.\u001b[0m\u001b[0m_index\u001b[0m \u001b[0;34m==\u001b[0m \u001b[0mself\u001b[0m\u001b[0;34m.\u001b[0m\u001b[0m_length\u001b[0m\u001b[0;34m:\u001b[0m\u001b[0;34m\u001b[0m\u001b[0;34m\u001b[0m\u001b[0m\n\u001b[1;32m    723\u001b[0m                     \u001b[0;32mraise\u001b[0m \u001b[0mStopIteration\u001b[0m\u001b[0;34m\u001b[0m\u001b[0;34m\u001b[0m\u001b[0m\n\u001b[0;32m--> 724\u001b[0;31m                 \u001b[0mself\u001b[0m\u001b[0;34m.\u001b[0m\u001b[0m_cond\u001b[0m\u001b[0;34m.\u001b[0m\u001b[0mwait\u001b[0m\u001b[0;34m(\u001b[0m\u001b[0mtimeout\u001b[0m\u001b[0;34m)\u001b[0m\u001b[0;34m\u001b[0m\u001b[0;34m\u001b[0m\u001b[0m\n\u001b[0m\u001b[1;32m    725\u001b[0m                 \u001b[0;32mtry\u001b[0m\u001b[0;34m:\u001b[0m\u001b[0;34m\u001b[0m\u001b[0;34m\u001b[0m\u001b[0m\n\u001b[1;32m    726\u001b[0m                     \u001b[0mitem\u001b[0m \u001b[0;34m=\u001b[0m \u001b[0mself\u001b[0m\u001b[0;34m.\u001b[0m\u001b[0m_items\u001b[0m\u001b[0;34m.\u001b[0m\u001b[0mpopleft\u001b[0m\u001b[0;34m(\u001b[0m\u001b[0;34m)\u001b[0m\u001b[0;34m\u001b[0m\u001b[0;34m\u001b[0m\u001b[0m\n",
            "\u001b[0;32m/usr/lib/python3.6/threading.py\u001b[0m in \u001b[0;36mwait\u001b[0;34m(self, timeout)\u001b[0m\n\u001b[1;32m    293\u001b[0m         \u001b[0;32mtry\u001b[0m\u001b[0;34m:\u001b[0m    \u001b[0;31m# restore state no matter what (e.g., KeyboardInterrupt)\u001b[0m\u001b[0;34m\u001b[0m\u001b[0;34m\u001b[0m\u001b[0m\n\u001b[1;32m    294\u001b[0m             \u001b[0;32mif\u001b[0m \u001b[0mtimeout\u001b[0m \u001b[0;32mis\u001b[0m \u001b[0;32mNone\u001b[0m\u001b[0;34m:\u001b[0m\u001b[0;34m\u001b[0m\u001b[0;34m\u001b[0m\u001b[0m\n\u001b[0;32m--> 295\u001b[0;31m                 \u001b[0mwaiter\u001b[0m\u001b[0;34m.\u001b[0m\u001b[0macquire\u001b[0m\u001b[0;34m(\u001b[0m\u001b[0;34m)\u001b[0m\u001b[0;34m\u001b[0m\u001b[0;34m\u001b[0m\u001b[0m\n\u001b[0m\u001b[1;32m    296\u001b[0m                 \u001b[0mgotit\u001b[0m \u001b[0;34m=\u001b[0m \u001b[0;32mTrue\u001b[0m\u001b[0;34m\u001b[0m\u001b[0;34m\u001b[0m\u001b[0m\n\u001b[1;32m    297\u001b[0m             \u001b[0;32melse\u001b[0m\u001b[0;34m:\u001b[0m\u001b[0;34m\u001b[0m\u001b[0;34m\u001b[0m\u001b[0m\n",
            "\u001b[0;31mKeyboardInterrupt\u001b[0m: "
          ]
        }
      ]
    },
    {
      "cell_type": "code",
      "metadata": {
        "id": "08NQhDazPd2w",
        "colab_type": "code",
        "outputId": "8b836d92-9cf0-4076-d019-da69641df5bd",
        "colab": {
          "base_uri": "https://localhost:8080/",
          "height": 172
        }
      },
      "source": [
        "train.to_csv(\"/content/drive/My Drive/Nuclear_SemiProj/output/entrire_train.csv\", index = False)"
      ],
      "execution_count": 0,
      "outputs": [
        {
          "output_type": "error",
          "ename": "NameError",
          "evalue": "ignored",
          "traceback": [
            "\u001b[0;31m---------------------------------------------------------------------------\u001b[0m",
            "\u001b[0;31mNameError\u001b[0m                                 Traceback (most recent call last)",
            "\u001b[0;32m<ipython-input-11-c79a0ed45896>\u001b[0m in \u001b[0;36m<module>\u001b[0;34m()\u001b[0m\n\u001b[0;32m----> 1\u001b[0;31m \u001b[0mtrain\u001b[0m\u001b[0;34m.\u001b[0m\u001b[0mto_csv\u001b[0m\u001b[0;34m(\u001b[0m\u001b[0;34m\"/content/drive/My Drive/Nuclear_SemiProj/output/entrire_train.csv\"\u001b[0m\u001b[0;34m,\u001b[0m \u001b[0mindex\u001b[0m \u001b[0;34m=\u001b[0m \u001b[0;32mFalse\u001b[0m\u001b[0;34m)\u001b[0m\u001b[0;34m\u001b[0m\u001b[0;34m\u001b[0m\u001b[0m\n\u001b[0m",
            "\u001b[0;31mNameError\u001b[0m: name 'train' is not defined"
          ]
        }
      ]
    },
    {
      "cell_type": "code",
      "metadata": {
        "id": "q44X4B_6UqNn",
        "colab_type": "code",
        "outputId": "7be7ec76-b61f-4f15-bf66-180ad8f621c3",
        "colab": {
          "base_uri": "https://localhost:8080/",
          "height": 172
        }
      },
      "source": [
        "print(train.head(1000) )"
      ],
      "execution_count": 0,
      "outputs": [
        {
          "output_type": "error",
          "ename": "NameError",
          "evalue": "ignored",
          "traceback": [
            "\u001b[0;31m---------------------------------------------------------------------------\u001b[0m",
            "\u001b[0;31mNameError\u001b[0m                                 Traceback (most recent call last)",
            "\u001b[0;32m<ipython-input-2-90a1ab057378>\u001b[0m in \u001b[0;36m<module>\u001b[0;34m()\u001b[0m\n\u001b[0;32m----> 1\u001b[0;31m \u001b[0mprint\u001b[0m\u001b[0;34m(\u001b[0m\u001b[0mtrain\u001b[0m\u001b[0;34m.\u001b[0m\u001b[0mhead\u001b[0m\u001b[0;34m(\u001b[0m\u001b[0;36m1000\u001b[0m\u001b[0;34m)\u001b[0m \u001b[0;34m)\u001b[0m\u001b[0;34m\u001b[0m\u001b[0;34m\u001b[0m\u001b[0m\n\u001b[0m",
            "\u001b[0;31mNameError\u001b[0m: name 'train' is not defined"
          ]
        }
      ]
    },
    {
      "cell_type": "code",
      "metadata": {
        "id": "VeY6libiV-BO",
        "colab_type": "code",
        "colab": {}
      },
      "source": [
        "# with pd.option_context('display.max_rows', None, 'display.max_columns', None):  # more options can be specified also\n",
        "#     print(train)"
      ],
      "execution_count": 0,
      "outputs": []
    },
    {
      "cell_type": "code",
      "metadata": {
        "id": "Xh0YxOyy7b5v",
        "colab_type": "code",
        "colab": {}
      },
      "source": [
        "test = data_loader_all(data_loader, path = test_path, train = False, nrows = 60)"
      ],
      "execution_count": 0,
      "outputs": []
    },
    {
      "cell_type": "code",
      "metadata": {
        "id": "RpOzFNaxb1PC",
        "colab_type": "code",
        "outputId": "4a7af880-f06e-4b96-93ac-a360319c7057",
        "colab": {
          "base_uri": "https://localhost:8080/",
          "height": 73
        }
      },
      "source": [
        "train_data = pd.read_csv(\"/content/drive/My Drive/Nuclear_SemiProj/output/entrire_train.csv\")"
      ],
      "execution_count": 0,
      "outputs": [
        {
          "output_type": "stream",
          "text": [
            "/usr/local/lib/python3.6/dist-packages/IPython/core/interactiveshell.py:2718: DtypeWarning: Columns (21,22,23,24,25,26,36,37,38,39,40,41,88,89,90,91,223,224,225,226,227,228,229,230,231,232,233,234,235,236,237,238,239,240,241,242,245,248,251,254,257,260,263,266,269,272,275,278,281,284,287,290,293,296,339,342,345,348,351,354,357,360,363,366,369,372,375,378,381,384,387,527,544,546,547,548,549,550,551,755,756,757,782,783,810,811,821,822,823,824,953,954,955,956,957,958,959,960,961,962,963,1107,1108,1122,1123,1124,1125,1134,1195,1196,1197,1198,1269,1270,1271,1272,1273,1274,1281,1316,1399,1400,1401,1402,1403,1404,1405,1406,1407,1408,1409,1410,1411,1412,1413,1414,1415,1416,1417,1418,1419,1420,1421,1422,1423,1424,1425,1426,1427,1428,1429,1430,1448,1449,1450,1451,1456,1461,1465,1466,1467,1468,1479,1480,1481,1482,1483,1484,1494,1495,1496,1501,1502,1565,1566,1567,1568,1723,1724,1725,1726,1727,1728,1729,1730,1731,1732,1733,1734,1735,1736,1737,1738,1741,1742,1743,1744,1745,1746,1747,1748,1749,1750,1751,1752,1753,1754,1755,1756,1757,1758,1759,1760,1774,1775,1776,1777,1778,1779,1780,1781,1782,1783,1784,1833,1834,2205,2206,2207,2208,2209,2210,2211,2212,2213,2214,2215,2216,2217,2218,2396,2403,2404,2405,2406,2407,2408,2409,2410,2411,2412,2413,2414,2415,2416,2417,2418,2419,2420,2421,2422,2423,2462,2463,2464,2465,2466,2467,2468,2469,2470,2471,2472,2473,2474,2475,2476,2477,2478,2479,2480,2481,2482,2483,2484,2485,2486,2487,2488,2489,2490,2491,2492,2493,2494,2495,2496,2497,2498,2499,2500,2501,2502,2503,2504,2505,2506,2507,2508,2509,2572,2573,2684,2685,2686,2687,2688,2801,2802,2803,2810,2811,2812,2819,2820,2821,2822,2842,2843,2844,2845,2846,2871,2872,2873,2874,2875,2876,2877,3111,3112,3113,3114,3115,3116,3117,3179,3180,3189,3190,3191,3192,3193,3284,3285,3369,3370,3371,3372,3373,3374,3375,3376,3413,3414,3415,3416,3417,3418,3419,3420,3421,3422,3423,3424,3425,3426,3427,3428,3429,3430,3431,3432,3433,3448,3449,3450,3451,3452,3453,3454,3455,3456,3457,3519,3521,3522,3547,3548,3553,3554,3555,3556,3557,3558,3559,3560,3563,3564,3569,3580,3581,3582,3583,3605,3632,3633,3634,3635,3636,3637,3638,3639,3642,3643,3644,3645,3646,3647,3648,3649,3650,3651,3652,3653,3654,3655,3656,3657,3658,3659,3660,3663,3667,3671,3674,3694,3695,3696,3697,3698,3699,3700,3701,3702,3703,3704,3705,3706,3707,3708,3709,3710,3711,3724,3727,3728,3729,3730,3731,3732,3733,3734,3735,3736,3737,3738,3739,3740,3741,3742,3743,3744,3745,3746,3747,3748,3749,3750,3751,3752,3753,3754,3755,3756,3757,3758,3759,3760,3761,3762,3763,3764,3765,3766,3767,3768,3769,3770,3771,3772,3773,3774,3775,3776,3777,3778,3779,3780,3781,3782,3783,3784,3785,3786,3787,3788,3789,3790,3791,3792,3793,3794,3795,3796,3797,3798,3799,3800,3801,3802,3803,3804,3805,3806,3807,3808,3809,3810,3811,3814,3815,3816,3817,3820,3821,3822,3830,3831,3832,3833,3834,3835,3836,3837,3838,3839,3840,3845,3846,3847,3848,3849,3850,3915,3916,3917,3918,3919,3920,3921,3922,3923,3924,3925,3926,3927,3928,3929,3930,3931,3932,3933,3934,3935,3936,3937,3938,3939,3940,3941,3942,3943,3944,3945,3946,3947,3948,3949,3950,3951,3952,3953,3954,3955,3956,3957,3958,3959,3960,3961,3962,3963,3964,3965,3966,3967,3968,3969,3970,3971,3972,3973,3974,3975,3976,3977,3982,3983,3984,3985,3986,3987,3988,3989,3990,3991,3992,3993,3994,3995,3996,3997,3998,3999,4000,4001,4002,4003,4004,4005,4006,4007,4008,4009,4010,4011,4012,4013,4014,4015,4016,4017,4018,4019,4020,4021,4022,4047,4048,4049,4050,4051,4052,4053,4054,4055,4056,4057,4058,4059,4060,4061,4062,4063,4070,4071,4072,4073,4074,4075,4076,4077,4078,4079,4080,4081,4090,4091,4092,4093,4094,4095,4101,4102,4103,4104,4105,4106,4107,4108,4109,4110,4111,4112,4133,4134,4135,4136,4137,4138,4139,4140,4141,4142,4143,4144,4151,4152,4153,4154,4155,4156,4165,4166,4167,4168,4179,4180,4181,4182,4183,4184,4185,4186,4187,4188,4193,4195,4196,4197,4198,4199,4200,4201,4202,4203,4204,4205,4206,4207,4208,4209,4210,4230,4231,4233,4234,4235,4236,4237,4238,4239,4240,4241,4242,4243,4244,4245,4246,4247,4248,4249,4250,4253,4254,4258,4259,4260,4261,4264,4267,4268,4269,4270,4271,4272,4273,4274,4275,4276,4279,4280,4281,4282,4283,4284,4285,4286,4287,4288,4289,4290,4291,4292,4293,4294,4295,4296,4297,4298,4299,4300,4301,4302,4303,4314,4315,4316,4322,4323,4324,4765,4770,4771,4772,4773,4774,4775,4776,4777,4778,4779,4780,4781,4782,4783,4784,4785,4786,4787,4788,4789,4790,4791,4792,4793,4794,4795,4796,4831,4832,4833,4834,4859,4860,4861,4862,4863,4864,4865,4866,4867,4868,4869,4870,4871,4872,4873,4874,4875,4876,4898,4899,4900,4901,4902,4903,4904,4905,4906,4907,4908,4909,4910,4911,4912,4913,4914,4915,4916,4917,4918,4919,4931,4932,4933,4934,4935,4936,4937,4938,4939,4940,4941,4942,4943,4944,4945,4946,4947,4948,4949,4950,4951,4952,4953,4954,4955,4956,4957,4958,4959,4960,4969,4974,4975,4976,4977,5028,5029,5030,5031,5032,5033,5034,5035,5036,5037,5038,5039,5040,5041,5042,5043,5044,5045,5046,5047,5048,5049,5050,5051,5052,5053,5054,5055,5056,5057,5058,5059,5060,5061,5062,5063,5064,5065,5066,5067,5068,5069,5070,5071,5072,5073,5074,5075,5083,5084,5085,5093,5094,5095,5096,5097,5098,5099,5100,5101,5102,5103,5104,5105,5106,5107,5108,5109,5110,5111,5112,5113,5114,5115,5116,5117,5121) have mixed types. Specify dtype option on import or set low_memory=False.\n",
            "  interactivity=interactivity, compiler=compiler, result=result)\n"
          ],
          "name": "stderr"
        }
      ]
    },
    {
      "cell_type": "code",
      "metadata": {
        "id": "KvPJAnAUexw1",
        "colab_type": "code",
        "outputId": "42d76cb5-e041-4623-e537-0b308b4e6a59",
        "colab": {
          "base_uri": "https://localhost:8080/",
          "height": 431
        }
      },
      "source": [
        "train_data_1 = train_data.query('label != 999') \n",
        "\n",
        "\n"
      ],
      "execution_count": 0,
      "outputs": [
        {
          "output_type": "stream",
          "text": [
            "    id  time      V0000     V0001  ...         V5118  V5119  V5120  label\n",
            "10   0    10  30.474394  8.691177  ...  1.421620e-05   85.4    0.0    110\n",
            "11   0    11  30.470463  8.736521  ... -6.114455e-06   85.4    0.0    110\n",
            "12   0    12  30.465427  8.753559  ... -1.813291e-05   85.4    0.0    110\n",
            "13   0    13  30.458532  8.715056  ... -5.745568e-07   85.4    0.0    110\n",
            "14   0    14  30.475773  8.790241  ...  8.437883e-06   85.4    0.0    110\n",
            "15   0    15  30.469574  8.722739  ... -2.988467e-06   85.4    0.0    110\n",
            "16   0    16  30.471422  8.843733  ...  1.136327e-05   85.4    0.0    110\n",
            "17   0    17  30.465795  8.639923  ...  1.157871e-06   85.4    0.0    110\n",
            "18   0    18  30.451257  8.643156  ...  4.229167e-06   85.4    0.0    110\n",
            "19   0    19  30.469449  8.786702  ...  1.503048e-06   85.4    0.0    110\n",
            "20   0    20  30.497599  8.815079  ...  1.728125e-05   85.4    0.0    110\n",
            "21   0    21  30.491865  8.708300  ...  1.601781e-05   85.4    0.0    110\n",
            "22   0    22  30.469387  8.648828  ...  1.601374e-05   85.4    0.0    110\n",
            "23   0    23  30.462772  8.538559  ... -1.251856e-05   85.4    0.0    110\n",
            "24   0    24  30.459047  8.738885  ... -1.015059e-05   85.4    0.0    110\n",
            "25   0    25  30.486311  8.794014  ... -3.866307e-06   85.4    0.0    110\n",
            "26   0    26  30.448098  8.731584  ...  2.088268e-05   85.4    0.0    110\n",
            "27   0    27  30.484789  8.746334  ...  1.270706e-05   85.4    0.0    110\n",
            "28   0    28  30.464948  8.668709  ... -9.323768e-06   85.4    0.0    110\n",
            "29   0    29  30.474875  8.799144  ... -3.710022e-07   85.4    0.0    110\n",
            "\n",
            "[20 rows x 5124 columns]\n"
          ],
          "name": "stdout"
        }
      ]
    },
    {
      "cell_type": "code",
      "metadata": {
        "id": "1H695B_NHF0w",
        "colab_type": "code",
        "outputId": "e7f41e37-5d5e-4479-da73-4d502309049f",
        "colab": {
          "base_uri": "https://localhost:8080/",
          "height": 269
        }
      },
      "source": [
        "print(train_data_1.head(500) )"
      ],
      "execution_count": 0,
      "outputs": [
        {
          "output_type": "stream",
          "text": [
            "      id  time      V0000     V0001  ...         V5118    V5119  V5120  label\n",
            "10     0    10  30.474394  8.691177  ...  1.421620e-05     85.4    0.0    110\n",
            "11     0    11  30.470463  8.736521  ... -6.114455e-06     85.4    0.0    110\n",
            "12     0    12  30.465427  8.753559  ... -1.813291e-05     85.4    0.0    110\n",
            "13     0    13  30.458532  8.715056  ... -5.745568e-07     85.4    0.0    110\n",
            "14     0    14  30.475773  8.790241  ...  8.437883e-06     85.4    0.0    110\n",
            "..   ...   ...        ...       ...  ...           ...      ...    ...    ...\n",
            "555  102    55  30.492440  8.472538  ... -7.107972e-06  5.82342    0.0    173\n",
            "556  102    56  30.502597  8.303426  ... -5.954663e-06  5.82342    0.0    173\n",
            "557  102    57  30.484245  8.221903  ...  1.006442e-05  5.82342    0.0    173\n",
            "558  102    58  30.476942  8.345245  ...  2.110309e-05  5.82342    0.0    173\n",
            "559  102    59  30.472778  8.313038  ...  1.355394e-05  5.82342    0.0    173\n",
            "\n",
            "[500 rows x 5124 columns]\n"
          ],
          "name": "stdout"
        }
      ]
    },
    {
      "cell_type": "code",
      "metadata": {
        "id": "UMFxvbLKHhgX",
        "colab_type": "code",
        "colab": {}
      },
      "source": [
        "train_data_1.to_csv(\"/content/drive/My Drive/Nuclear_SemiProj/output/B_x_train.csv\", index = False)"
      ],
      "execution_count": 0,
      "outputs": []
    },
    {
      "cell_type": "code",
      "metadata": {
        "id": "PE3eoLed55qH",
        "colab_type": "code",
        "colab": {
          "base_uri": "https://localhost:8080/",
          "height": 73
        },
        "outputId": "87399a09-d5fc-46db-fd21-5d88954c82a8"
      },
      "source": [
        "#b_train_data = pd.read_csv(\"/content/drive/My Drive/Nuclear_SemiProj/output/B_train.csv\")\n",
        "\n",
        "chunksize = 10000\n",
        "tfr = pd.read_csv(\"/content/drive/My Drive/Nuclear_SemiProj/output/B_train.csv\", chunksize=chunksize, iterator=True)\n",
        "b_train_data = pd.concat(tfr, ignore_index=True)\n",
        "\n",
        "\n"
      ],
      "execution_count": 20,
      "outputs": [
        {
          "output_type": "stream",
          "text": [
            "/usr/local/lib/python3.6/dist-packages/IPython/core/interactiveshell.py:2882: DtypeWarning: Columns (21,22,23,24,25,26,36,37,38,39,40,41,88,89,90,91,223,224,225,226,227,228,229,230,231,232,233,234,235,236,237,238,239,240,241,242,245,248,251,254,257,260,263,266,269,272,275,278,281,284,287,290,293,296,339,342,345,348,351,354,357,360,363,366,369,372,375,378,381,384,387,527,544,546,547,548,549,550,551,755,756,757,782,783,810,811,821,822,823,824,953,954,955,956,957,958,959,960,961,962,963,1107,1108,1122,1123,1124,1125,1134,1195,1196,1197,1198,1269,1270,1271,1272,1273,1274,1281,1316,1399,1400,1401,1402,1403,1404,1405,1406,1407,1408,1409,1410,1411,1412,1413,1414,1415,1416,1417,1418,1419,1420,1421,1422,1423,1424,1425,1426,1427,1428,1429,1430,1448,1449,1450,1451,1456,1461,1465,1466,1467,1468,1479,1480,1481,1482,1483,1484,1494,1495,1496,1501,1502,1565,1566,1567,1568,1723,1724,1725,1726,1727,1728,1729,1730,1731,1732,1733,1734,1735,1736,1737,1738,1741,1742,1743,1744,1745,1746,1747,1748,1749,1750,1751,1752,1753,1754,1755,1756,1757,1758,1759,1760,1774,1775,1776,1777,1778,1779,1780,1781,1782,1783,1784,1833,1834,2205,2206,2207,2208,2209,2210,2211,2212,2213,2214,2215,2216,2217,2218,2396,2403,2404,2405,2406,2407,2408,2409,2410,2411,2412,2413,2414,2415,2416,2417,2418,2419,2420,2421,2422,2423,2462,2463,2464,2465,2466,2467,2468,2469,2470,2471,2472,2473,2474,2475,2476,2477,2478,2479,2480,2481,2482,2483,2484,2485,2486,2487,2488,2489,2490,2491,2492,2493,2494,2495,2496,2497,2498,2499,2500,2501,2502,2503,2504,2505,2506,2507,2508,2509,2572,2573,2684,2685,2686,2687,2688,2801,2802,2803,2810,2811,2812,2819,2820,2821,2822,2842,2843,2844,2845,2846,2871,2872,2873,2874,2875,2876,2877,3111,3112,3113,3114,3115,3116,3117,3179,3180,3189,3190,3191,3192,3193,3284,3285,3369,3370,3371,3372,3373,3374,3375,3376,3413,3414,3415,3416,3417,3418,3419,3420,3421,3422,3423,3424,3425,3426,3427,3428,3429,3430,3431,3432,3433,3448,3449,3450,3451,3452,3453,3454,3455,3456,3457,3519,3521,3522,3547,3548,3553,3554,3555,3556,3557,3558,3559,3560,3563,3564,3569,3580,3581,3582,3583,3605,3632,3633,3634,3635,3636,3637,3638,3639,3642,3643,3644,3645,3646,3647,3648,3649,3650,3651,3652,3653,3654,3655,3656,3657,3658,3659,3660,3663,3667,3671,3674,3694,3695,3696,3697,3698,3699,3700,3701,3702,3703,3704,3705,3706,3707,3708,3709,3710,3711,3724,3727,3728,3729,3730,3731,3732,3733,3734,3735,3736,3737,3738,3739,3740,3741,3742,3743,3744,3745,3746,3747,3748,3749,3750,3751,3752,3753,3754,3755,3756,3757,3758,3759,3760,3761,3762,3763,3764,3765,3766,3767,3768,3769,3770,3771,3772,3773,3774,3775,3776,3777,3778,3779,3780,3781,3782,3783,3784,3785,3786,3787,3788,3789,3790,3791,3792,3793,3794,3795,3796,3797,3798,3799,3800,3801,3802,3803,3804,3805,3806,3807,3808,3809,3810,3811,3814,3815,3816,3817,3820,3821,3822,3830,3831,3832,3833,3834,3835,3836,3837,3838,3839,3840,3845,3846,3847,3848,3849,3850,3915,3916,3917,3918,3919,3920,3921,3922,3923,3924,3925,3926,3927,3928,3929,3930,3931,3932,3933,3934,3935,3936,3937,3938,3939,3940,3941,3942,3943,3944,3945,3946,3947,3948,3949,3950,3951,3952,3953,3954,3955,3956,3957,3958,3959,3960,3961,3962,3963,3964,3965,3966,3967,3968,3969,3970,3971,3972,3973,3974,3975,3976,3977,3982,3983,3984,3985,3986,3987,3988,3989,3990,3991,3992,3993,3994,3995,3996,3997,3998,3999,4000,4001,4002,4003,4004,4005,4006,4007,4008,4009,4010,4011,4012,4013,4014,4015,4016,4017,4018,4019,4020,4021,4022,4047,4048,4049,4050,4051,4052,4053,4054,4055,4056,4057,4058,4059,4060,4061,4062,4063,4070,4071,4072,4073,4074,4075,4076,4077,4078,4079,4080,4081,4090,4091,4092,4093,4094,4095,4101,4102,4103,4104,4105,4106,4107,4108,4109,4110,4111,4112,4133,4134,4135,4136,4137,4138,4139,4140,4141,4142,4143,4144,4151,4152,4153,4154,4155,4156,4165,4166,4167,4168,4179,4180,4181,4182,4183,4184,4185,4186,4187,4188,4193,4195,4196,4197,4198,4199,4200,4201,4202,4203,4204,4205,4206,4207,4208,4209,4210,4230,4231,4233,4234,4235,4236,4237,4238,4239,4240,4241,4242,4243,4244,4245,4246,4247,4248,4249,4250,4253,4254,4258,4259,4260,4261,4264,4267,4268,4269,4270,4271,4272,4273,4274,4275,4276,4279,4280,4281,4282,4283,4284,4285,4286,4287,4288,4289,4290,4291,4292,4293,4294,4295,4296,4297,4298,4299,4300,4301,4302,4303,4314,4315,4316,4322,4323,4324,4765,4770,4771,4772,4773,4774,4775,4776,4777,4778,4779,4780,4781,4782,4783,4784,4785,4786,4787,4788,4789,4790,4791,4792,4793,4794,4795,4796,4831,4832,4833,4834,4859,4860,4861,4862,4863,4864,4865,4866,4867,4868,4869,4870,4871,4872,4873,4874,4875,4876,4898,4899,4900,4901,4902,4903,4904,4905,4906,4907,4908,4909,4910,4911,4912,4913,4914,4915,4916,4917,4918,4919,4931,4932,4933,4934,4935,4936,4937,4938,4939,4940,4941,4942,4943,4944,4945,4946,4947,4948,4949,4950,4951,4952,4953,4954,4955,4956,4957,4958,4959,4960,4969,4974,4975,4976,4977,5028,5029,5030,5031,5032,5033,5034,5035,5036,5037,5038,5039,5040,5041,5042,5043,5044,5045,5046,5047,5048,5049,5050,5051,5052,5053,5054,5055,5056,5057,5058,5059,5060,5061,5062,5063,5064,5065,5066,5067,5068,5069,5070,5071,5072,5073,5074,5075,5083,5084,5085,5093,5094,5095,5096,5097,5098,5099,5100,5101,5102,5103,5104,5105,5106,5107,5108,5109,5110,5111,5112,5113,5114,5115,5116,5117,5121) have mixed types. Specify dtype option on import or set low_memory=False.\n",
            "  exec(code_obj, self.user_global_ns, self.user_ns)\n"
          ],
          "name": "stderr"
        }
      ]
    },
    {
      "cell_type": "code",
      "metadata": {
        "id": "UKpGtSHltd-z",
        "colab_type": "code",
        "colab": {
          "base_uri": "https://localhost:8080/",
          "height": 35
        },
        "outputId": "7453ba69-dcf5-4a04-a9d6-223bcb7610d0"
      },
      "source": [
        "print(b_train_data.shape)"
      ],
      "execution_count": 23,
      "outputs": [
        {
          "output_type": "stream",
          "text": [
            "(74520, 5124)\n"
          ],
          "name": "stdout"
        }
      ]
    },
    {
      "cell_type": "code",
      "metadata": {
        "id": "BaBKFK18niee",
        "colab_type": "code",
        "colab": {}
      },
      "source": [
        "def read_csv(filename):\n",
        "    'converts a filename to a pandas dataframe'\n",
        "    return pd.read_csv(filename)"
      ],
      "execution_count": 0,
      "outputs": []
    },
    {
      "cell_type": "code",
      "metadata": {
        "id": "JDfhWIxT7fjU",
        "colab_type": "code",
        "colab": {}
      },
      "source": [
        "#print(b_train_data.head(100))\n",
        "\n",
        "# pd.read_csv\n",
        "\n",
        "# wrap your csv importer in a function that can be mapped\n",
        "# def read_csv(filename):\n",
        "#     'converts a filename to a pandas dataframe'\n",
        "#     return pd.read_csv(filename)\n",
        "\n",
        "\n",
        "# def main():\n",
        "\n",
        "#     # get a list of file names\n",
        "#     files = os.listdir('.')\n",
        "#     file_list = [filename for filename in files if filename.split('.')[1]=='csv']\n",
        "\n",
        "#     # set up your pool\n",
        "#     with Pool(processes=8) as pool: # or whatever your hardware can support\n",
        "\n",
        "#         # have your pool map the file names to dataframes\n",
        "#         df_list = pool.map(read_csv, file_list)\n",
        "\n",
        "#         # reduce the list of dataframes to a single dataframe\n",
        "#         combined_df = pd.concat(df_list, ignore_index=True)\n",
        "\n",
        "# if __name__ == '__main__':\n",
        "#     main()\n",
        "\n",
        "# with Pool(processes = multiprocessing.cpu_count()) as pool:\n",
        "#  b_train_data = pool.imap(read_csv, \"/content/drive/My Drive/Nuclear_SemiProj/output/B_train.csv\")\n",
        "\n",
        "# print(b_train_data.head(100))\n",
        "\n",
        "b_x_train_data = b_train_data.drop('label', axis=1)\n",
        "b_y_train_data = b_train_data['label'].to_frame() \n",
        "\n",
        "# print(b_train_data.head(100))\n",
        "# print(b_x_train_data.head(100))\n",
        "# print(b_y_train_data.head(100))\n",
        "\n",
        "\n",
        "\n"
      ],
      "execution_count": 0,
      "outputs": []
    },
    {
      "cell_type": "code",
      "metadata": {
        "id": "RP6vO6h1K4aI",
        "colab_type": "code",
        "colab": {
          "base_uri": "https://localhost:8080/",
          "height": 73
        },
        "outputId": "194f0d4b-1cde-4b9d-cb97-11f25e919197"
      },
      "source": [
        "# set up your pool\n",
        "# with Pool(processes = multiprocessing.cpu_count()) as pool: # or whatever your hardware can support\n",
        "#   pool.imap(write_csv, \"/content/drive/My Drive/Nuclear_SemiProj/output/b_x_train.csv\")\n",
        "# pool = Pool(processes = multiprocessing.cpu_count()) \n",
        "# pool.imap(pandas.to_csv, files_path)\n",
        "\n",
        "chunksize = 10000\n",
        "tfr_x = pd.read_csv(\"/content/drive/My Drive/Nuclear_SemiProj/output/b_x_train.csv\", chunksize=chunksize, iterator=True)\n",
        "b_x_train_data = pd.concat(tfr_x, ignore_index=True)\n",
        "\n",
        "\n",
        "\n",
        "# b_x_train_data.to_csv(\"/content/drive/My Drive/Nuclear_SemiProj/output/b_x_train.csv\", index=False)"
      ],
      "execution_count": 25,
      "outputs": [
        {
          "output_type": "stream",
          "text": [
            "/usr/local/lib/python3.6/dist-packages/IPython/core/interactiveshell.py:2882: DtypeWarning: Columns (21,22,23,24,25,26,36,37,38,39,40,41,88,89,90,91,223,224,225,226,227,228,229,230,231,232,233,234,235,236,237,238,239,240,241,242,245,248,251,254,257,260,263,266,269,272,275,278,281,284,287,290,293,296,339,342,345,348,351,354,357,360,363,366,369,372,375,378,381,384,387,527,544,546,547,548,549,550,551,755,756,757,782,783,810,811,821,822,823,824,953,954,955,956,957,958,959,960,961,962,963,1107,1108,1122,1123,1124,1125,1134,1195,1196,1197,1198,1269,1270,1271,1272,1273,1274,1281,1316,1399,1400,1401,1402,1403,1404,1405,1406,1407,1408,1409,1410,1411,1412,1413,1414,1415,1416,1417,1418,1419,1420,1421,1422,1423,1424,1425,1426,1427,1428,1429,1430,1448,1449,1450,1451,1456,1461,1465,1466,1467,1468,1479,1480,1481,1482,1483,1484,1494,1495,1496,1501,1502,1565,1566,1567,1568,1723,1724,1725,1726,1727,1728,1729,1730,1731,1732,1733,1734,1735,1736,1737,1738,1741,1742,1743,1744,1745,1746,1747,1748,1749,1750,1751,1752,1753,1754,1755,1756,1757,1758,1759,1760,1774,1775,1776,1777,1778,1779,1780,1781,1782,1783,1784,1833,1834,2205,2206,2207,2208,2209,2210,2211,2212,2213,2214,2215,2216,2217,2218,2396,2403,2404,2405,2406,2407,2408,2409,2410,2411,2412,2413,2414,2415,2416,2417,2418,2419,2420,2421,2422,2423,2462,2463,2464,2465,2466,2467,2468,2469,2470,2471,2472,2473,2474,2475,2476,2477,2478,2479,2480,2481,2482,2483,2484,2485,2486,2487,2488,2489,2490,2491,2492,2493,2494,2495,2496,2497,2498,2499,2500,2501,2502,2503,2504,2505,2506,2507,2508,2509,2572,2573,2684,2685,2686,2687,2688,2801,2802,2803,2810,2811,2812,2819,2820,2821,2822,2842,2843,2844,2845,2846,2871,2872,2873,2874,2875,2876,2877,3111,3112,3113,3114,3115,3116,3117,3179,3180,3189,3190,3191,3192,3193,3284,3285,3369,3370,3371,3372,3373,3374,3375,3376,3413,3414,3415,3416,3417,3418,3419,3420,3421,3422,3423,3424,3425,3426,3427,3428,3429,3430,3431,3432,3433,3448,3449,3450,3451,3452,3453,3454,3455,3456,3457,3519,3521,3522,3547,3548,3553,3554,3555,3556,3557,3558,3559,3560,3563,3564,3569,3580,3581,3582,3583,3605,3632,3633,3634,3635,3636,3637,3638,3639,3642,3643,3644,3645,3646,3647,3648,3649,3650,3651,3652,3653,3654,3655,3656,3657,3658,3659,3660,3663,3667,3671,3674,3694,3695,3696,3697,3698,3699,3700,3701,3702,3703,3704,3705,3706,3707,3708,3709,3710,3711,3724,3727,3728,3729,3730,3731,3732,3733,3734,3735,3736,3737,3738,3739,3740,3741,3742,3743,3744,3745,3746,3747,3748,3749,3750,3751,3752,3753,3754,3755,3756,3757,3758,3759,3760,3761,3762,3763,3764,3765,3766,3767,3768,3769,3770,3771,3772,3773,3774,3775,3776,3777,3778,3779,3780,3781,3782,3783,3784,3785,3786,3787,3788,3789,3790,3791,3792,3793,3794,3795,3796,3797,3798,3799,3800,3801,3802,3803,3804,3805,3806,3807,3808,3809,3810,3811,3814,3815,3816,3817,3820,3821,3822,3830,3831,3832,3833,3834,3835,3836,3837,3838,3839,3840,3845,3846,3847,3848,3849,3850,3915,3916,3917,3918,3919,3920,3921,3922,3923,3924,3925,3926,3927,3928,3929,3930,3931,3932,3933,3934,3935,3936,3937,3938,3939,3940,3941,3942,3943,3944,3945,3946,3947,3948,3949,3950,3951,3952,3953,3954,3955,3956,3957,3958,3959,3960,3961,3962,3963,3964,3965,3966,3967,3968,3969,3970,3971,3972,3973,3974,3975,3976,3977,3982,3983,3984,3985,3986,3987,3988,3989,3990,3991,3992,3993,3994,3995,3996,3997,3998,3999,4000,4001,4002,4003,4004,4005,4006,4007,4008,4009,4010,4011,4012,4013,4014,4015,4016,4017,4018,4019,4020,4021,4022,4047,4048,4049,4050,4051,4052,4053,4054,4055,4056,4057,4058,4059,4060,4061,4062,4063,4070,4071,4072,4073,4074,4075,4076,4077,4078,4079,4080,4081,4090,4091,4092,4093,4094,4095,4101,4102,4103,4104,4105,4106,4107,4108,4109,4110,4111,4112,4133,4134,4135,4136,4137,4138,4139,4140,4141,4142,4143,4144,4151,4152,4153,4154,4155,4156,4165,4166,4167,4168,4179,4180,4181,4182,4183,4184,4185,4186,4187,4188,4193,4195,4196,4197,4198,4199,4200,4201,4202,4203,4204,4205,4206,4207,4208,4209,4210,4230,4231,4233,4234,4235,4236,4237,4238,4239,4240,4241,4242,4243,4244,4245,4246,4247,4248,4249,4250,4253,4254,4258,4259,4260,4261,4264,4267,4268,4269,4270,4271,4272,4273,4274,4275,4276,4279,4280,4281,4282,4283,4284,4285,4286,4287,4288,4289,4290,4291,4292,4293,4294,4295,4296,4297,4298,4299,4300,4301,4302,4303,4314,4315,4316,4322,4323,4324,4765,4770,4771,4772,4773,4774,4775,4776,4777,4778,4779,4780,4781,4782,4783,4784,4785,4786,4787,4788,4789,4790,4791,4792,4793,4794,4795,4796,4831,4832,4833,4834,4859,4860,4861,4862,4863,4864,4865,4866,4867,4868,4869,4870,4871,4872,4873,4874,4875,4876,4898,4899,4900,4901,4902,4903,4904,4905,4906,4907,4908,4909,4910,4911,4912,4913,4914,4915,4916,4917,4918,4919,4931,4932,4933,4934,4935,4936,4937,4938,4939,4940,4941,4942,4943,4944,4945,4946,4947,4948,4949,4950,4951,4952,4953,4954,4955,4956,4957,4958,4959,4960,4969,4974,4975,4976,4977,5028,5029,5030,5031,5032,5033,5034,5035,5036,5037,5038,5039,5040,5041,5042,5043,5044,5045,5046,5047,5048,5049,5050,5051,5052,5053,5054,5055,5056,5057,5058,5059,5060,5061,5062,5063,5064,5065,5066,5067,5068,5069,5070,5071,5072,5073,5074,5075,5083,5084,5085,5093,5094,5095,5096,5097,5098,5099,5100,5101,5102,5103,5104,5105,5106,5107,5108,5109,5110,5111,5112,5113,5114,5115,5116,5117,5121) have mixed types. Specify dtype option on import or set low_memory=False.\n",
            "  exec(code_obj, self.user_global_ns, self.user_ns)\n"
          ],
          "name": "stderr"
        }
      ]
    },
    {
      "cell_type": "code",
      "metadata": {
        "id": "yH-hOgcrwq9C",
        "colab_type": "code",
        "colab": {
          "base_uri": "https://localhost:8080/",
          "height": 269
        },
        "outputId": "6a5c2328-e7d6-40ba-c65b-46673f46eaac"
      },
      "source": [
        "print(b_x_train_data.head(1000))"
      ],
      "execution_count": 26,
      "outputs": [
        {
          "output_type": "stream",
          "text": [
            "      id  time      V0000     V0001  ...  V5117         V5118  V5119  V5120\n",
            "0      0    10  30.474394  8.691177  ...    0.0  1.421620e-05   85.4    0.0\n",
            "1      0    11  30.470463  8.736521  ...    0.0 -6.114455e-06   85.4    0.0\n",
            "2      0    12  30.465427  8.753559  ...    0.0 -1.813291e-05   85.4    0.0\n",
            "3      0    13  30.458532  8.715056  ...    0.0 -5.745568e-07   85.4    0.0\n",
            "4      0    14  30.475773  8.790241  ...    0.0  8.437883e-06   85.4    0.0\n",
            "..   ...   ...        ...       ...  ...    ...           ...    ...    ...\n",
            "995  108    15  30.480877  8.807196  ...    0.0  2.017248e-06   85.4    0.0\n",
            "996  108    16  30.486193  8.815195  ...    0.0  4.512549e-06   85.4    0.0\n",
            "997  108    17  30.473104  8.658621  ...    0.0 -9.544943e-06   85.4    0.0\n",
            "998  108    18  30.487434  8.737804  ...    0.0  4.466532e-06   85.4    0.0\n",
            "999  108    19  30.455963  8.688224  ...    0.0  7.280729e-06   85.4    0.0\n",
            "\n",
            "[1000 rows x 5123 columns]\n"
          ],
          "name": "stdout"
        }
      ]
    },
    {
      "cell_type": "code",
      "metadata": {
        "id": "pygeC_SSm6lw",
        "colab_type": "code",
        "colab": {}
      },
      "source": [
        "b_y_train_data.to_csv(\"/content/drive/My Drive/Nuclear_SemiProj/output/b_y_train.csv\", index=False, chunksize=10000)"
      ],
      "execution_count": 0,
      "outputs": []
    }
  ]
}