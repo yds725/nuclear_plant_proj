{
  "nbformat": 4,
  "nbformat_minor": 0,
  "metadata": {
    "colab": {
      "name": "Untitled1.ipynb",
      "provenance": [],
      "authorship_tag": "ABX9TyO0FytttTTtaDKjVdGDh/lZ",
      "include_colab_link": true
    },
    "kernelspec": {
      "name": "python3",
      "display_name": "Python 3"
    },
    "accelerator": "GPU"
  },
  "cells": [
    {
      "cell_type": "markdown",
      "metadata": {
        "id": "view-in-github",
        "colab_type": "text"
      },
      "source": [
        "<a href=\"https://colab.research.google.com/github/yds725/nuclear_plant_proj/blob/jisoo/Untitled1.ipynb\" target=\"_parent\"><img src=\"https://colab.research.google.com/assets/colab-badge.svg\" alt=\"Open In Colab\"/></a>"
      ]
    },
    {
      "cell_type": "code",
      "metadata": {
        "id": "9kZ4I3uncV3c",
        "colab_type": "code",
        "colab": {
          "base_uri": "https://localhost:8080/",
          "height": 126
        },
        "outputId": "952c1526-1678-4cce-aa11-fa5de47b2886"
      },
      "source": [
        "!git clone https://github.com/yds725/nuclear_plant_proj.git"
      ],
      "execution_count": 22,
      "outputs": [
        {
          "output_type": "stream",
          "text": [
            "Cloning into 'nuclear_plant_proj'...\n",
            "remote: Enumerating objects: 68, done.\u001b[K\n",
            "remote: Counting objects: 100% (68/68), done.\u001b[K\n",
            "remote: Compressing objects: 100% (60/60), done.\u001b[K\n",
            "remote: Total 68 (delta 28), reused 26 (delta 7), pack-reused 0\u001b[K\n",
            "Unpacking objects: 100% (68/68), done.\n"
          ],
          "name": "stdout"
        }
      ]
    },
    {
      "cell_type": "code",
      "metadata": {
        "id": "rGiwtq2u_EIe",
        "colab_type": "code",
        "colab": {
          "base_uri": "https://localhost:8080/",
          "height": 128
        },
        "outputId": "74e6f715-49d4-4585-9b64-35ac8d42debc"
      },
      "source": [
        "from google.colab import drive\n",
        "drive.mount('/content/drive')"
      ],
      "execution_count": 2,
      "outputs": [
        {
          "output_type": "stream",
          "text": [
            "Go to this URL in a browser: https://accounts.google.com/o/oauth2/auth?client_id=947318989803-6bn6qk8qdgf4n4g3pfee6491hc0brc4i.apps.googleusercontent.com&redirect_uri=urn%3aietf%3awg%3aoauth%3a2.0%3aoob&response_type=code&scope=email%20https%3a%2f%2fwww.googleapis.com%2fauth%2fdocs.test%20https%3a%2f%2fwww.googleapis.com%2fauth%2fdrive%20https%3a%2f%2fwww.googleapis.com%2fauth%2fdrive.photos.readonly%20https%3a%2f%2fwww.googleapis.com%2fauth%2fpeopleapi.readonly\n",
            "\n",
            "Enter your authorization code:\n",
            "··········\n",
            "Mounted at /content/drive\n"
          ],
          "name": "stdout"
        }
      ]
    },
    {
      "cell_type": "code",
      "metadata": {
        "id": "l8bo-ntj_G4G",
        "colab_type": "code",
        "colab": {
          "base_uri": "https://localhost:8080/",
          "height": 65
        },
        "outputId": "129a6d72-86ae-4a32-df7b-49963e804ca9"
      },
      "source": [
        "# 모듈 삽입\n",
        "\n",
        "import numpy as np\n",
        "import tensorflow as tf\n",
        "import pandas as pd\n",
        "import matplotlib.pyplot as plt \n",
        "from tensorflow.examples.tutorials.mnist import input_data\n",
        "from sklearn.linear_model import LogisticRegression\n",
        "from sklearn.preprocessing import MinMaxScaler\n",
        "import matplotlib.patches as patches\n",
        "import seaborn as sns"
      ],
      "execution_count": 3,
      "outputs": [
        {
          "output_type": "display_data",
          "data": {
            "text/html": [
              "<p style=\"color: red;\">\n",
              "The default version of TensorFlow in Colab will soon switch to TensorFlow 2.x.<br>\n",
              "We recommend you <a href=\"https://www.tensorflow.org/guide/migrate\" target=\"_blank\">upgrade</a> now \n",
              "or ensure your notebook will continue to use TensorFlow 1.x via the <code>%tensorflow_version 1.x</code> magic:\n",
              "<a href=\"https://colab.research.google.com/notebooks/tensorflow_version.ipynb\" target=\"_blank\">more info</a>.</p>\n"
            ],
            "text/plain": [
              "<IPython.core.display.HTML object>"
            ]
          },
          "metadata": {
            "tags": []
          }
        }
      ]
    },
    {
      "cell_type": "code",
      "metadata": {
        "id": "xTUGqGa3_G6m",
        "colab_type": "code",
        "colab": {}
      },
      "source": [
        "# 드라이브에 저장된 데이터 불러오기\n",
        "\n",
        "data_0 = pd.read_csv('/content/drive/My Drive/Colab Notebooks/project_nuclear/project_nuclear_origin_data/train/0.csv')\n",
        "data_22 = pd.read_csv('/content/drive/My Drive/Colab Notebooks/project_nuclear/project_nuclear_origin_data/train/22.csv')\n",
        "\n",
        "data_59 = pd.read_csv('/content/drive/My Drive/Colab Notebooks/project_nuclear/project_nuclear_origin_data/train/59.csv')\n",
        "data_198 = pd.read_csv('/content/drive/My Drive/Colab Notebooks/project_nuclear/project_nuclear_origin_data/train/198.csv')\n",
        "\n",
        "data_213 = pd.read_csv('/content/drive/My Drive/Colab Notebooks/project_nuclear/project_nuclear_origin_data/train/213.csv')\n",
        "data_224 = pd.read_csv('/content/drive/My Drive/Colab Notebooks/project_nuclear/project_nuclear_origin_data/train/224.csv')\n"
      ],
      "execution_count": 0,
      "outputs": []
    },
    {
      "cell_type": "markdown",
      "metadata": {
        "id": "pRy8NhoQBGnM",
        "colab_type": "text"
      },
      "source": [
        "# **describe, std**"
      ]
    },
    {
      "cell_type": "code",
      "metadata": {
        "id": "Smb9ucHd_G89",
        "colab_type": "code",
        "colab": {}
      },
      "source": [
        "data_0_des = data_0.describe()\n",
        "data_0_std = data_0_des.loc['std']\n",
        "\n",
        "data_22_des = data_22.describe()\n",
        "data_22_std = data_22_des.loc['std']\n",
        "\n",
        "data_59_des = data_59.describe()\n",
        "data_59_std = data_59_des.loc['std']\n",
        "\n",
        "data_198_des = data_198.describe()\n",
        "data_198_std = data_198_des.loc['std']\n",
        "\n",
        "data_213_des = data_213.describe()\n",
        "data_213_std = data_213_des.loc['std']\n",
        "\n",
        "data_224_des = data_224.describe()\n",
        "data_224_std = data_224_des.loc['std']"
      ],
      "execution_count": 0,
      "outputs": []
    },
    {
      "cell_type": "code",
      "metadata": {
        "id": "KYLYDkxk_Rhm",
        "colab_type": "code",
        "colab": {
          "base_uri": "https://localhost:8080/",
          "height": 1000
        },
        "outputId": "10026d1e-ca91-4edd-9f16-e353426c306c"
      },
      "source": [
        "# 각 col std 값들을 그래프로 확인\n",
        "\n",
        "x1 = list(range(0,data_0_std.shape[0]))\n",
        "y1 = data_0_std\n",
        "plt.plot(x1,y1)\n",
        "plt.show()\n",
        "\n",
        "x2 = list(range(0,data_22_std.shape[0]))\n",
        "y2 = data_22_std\n",
        "plt.plot(x2,y2)\n",
        "plt.show()\n",
        "\n",
        "x3 = list(range(0,data_59_std.shape[0]))\n",
        "y3 = data_59_std\n",
        "plt.plot(x3,y3)\n",
        "plt.show()\n",
        "\n",
        "x4 = list(range(0,data_198_std.shape[0]))\n",
        "y4 = data_198_std\n",
        "plt.plot(x4,y4)\n",
        "plt.show()\n",
        "\n",
        "x5 = list(range(0,data_213_std.shape[0]))\n",
        "y5 = data_213_std\n",
        "plt.plot(x5,y5)\n",
        "plt.show()\n",
        "\n",
        "x6 = list(range(0,data_224_std.shape[0]))\n",
        "y6 = data_224_std\n",
        "plt.plot(x6,y6)\n",
        "plt.show()"
      ],
      "execution_count": 6,
      "outputs": [
        {
          "output_type": "display_data",
          "data": {
            "image/png": "[encoded data removed]",
            "text/plain": [
              "<Figure size 432x288 with 1 Axes>"
            ]
          },
          "metadata": {
            "tags": []
          }
        },
        {
          "output_type": "display_data",
          "data": {
            "image/png": "[encoded data removed]",
            "text/plain": [
              "<Figure size 432x288 with 1 Axes>"
            ]
          },
          "metadata": {
            "tags": []
          }
        },
        {
          "output_type": "display_data",
          "data": {
            "image/png": "[encoded data removed]",
            "text/plain": [
              "<Figure size 432x288 with 1 Axes>"
            ]
          },
          "metadata": {
            "tags": []
          }
        },
        {
          "output_type": "display_data",
          "data": {
            "image/png": "[encoded data removed]",
            "text/plain": [
              "<Figure size 432x288 with 1 Axes>"
            ]
          },
          "metadata": {
            "tags": []
          }
        },
        {
          "output_type": "display_data",
          "data": {
            "image/png": "[encoded data removed]",
            "text/plain": [
              "<Figure size 432x288 with 1 Axes>"
            ]
          },
          "metadata": {
            "tags": []
          }
        },
        {
          "output_type": "display_data",
          "data": {
            "image/png": "[encoded data removed]",
            "text/plain": [
              "<Figure size 432x288 with 1 Axes>"
            ]
          },
          "metadata": {
            "tags": []
          }
        }
      ]
    },
    {
      "cell_type": "code",
      "metadata": {
        "id": "UtLfW0l5D9Md",
        "colab_type": "code",
        "colab": {
          "base_uri": "https://localhost:8080/",
          "height": 1000
        },
        "outputId": "f9c3bdfc-8636-4787-f2be-d9c0642f28ca"
      },
      "source": [
        "sns.regplot(x=data_0.iloc[:20,0],\n",
        "            y=data_0.iloc[:20,6],\n",
        "            fit_reg=False)\n",
        "plt.title('time, col_6', fontsize=20)\n",
        "plt.show()\n",
        "\n",
        "sns.regplot(x=data_22.iloc[:20,0],\n",
        "            y=data_22.iloc[:20,6],\n",
        "            fit_reg=False)\n",
        "plt.title('time, col_6', fontsize=20)\n",
        "plt.show()\n",
        "\n",
        "sns.regplot(x=data_59.iloc[:20,0],\n",
        "            y=data_59.iloc[:20,6],\n",
        "            fit_reg=False)\n",
        "plt.title('time, col_6', fontsize=20)\n",
        "plt.show()\n",
        "\n",
        "sns.regplot(x=data_198.iloc[:20,0],\n",
        "            y=data_198.iloc[:20,6],\n",
        "            fit_reg=False)\n",
        "plt.title('time, col_6', fontsize=20)\n",
        "plt.show()"
      ],
      "execution_count": 15,
      "outputs": [
        {
          "output_type": "display_data",
          "data": {
            "image/png": "[encoded data removed]",
            "text/plain": [
              "<Figure size 432x288 with 1 Axes>"
            ]
          },
          "metadata": {
            "tags": []
          }
        },
        {
          "output_type": "display_data",
          "data": {
            "image/png": "[encoded data removed]",
            "text/plain": [
              "<Figure size 432x288 with 1 Axes>"
            ]
          },
          "metadata": {
            "tags": []
          }
        },
        {
          "output_type": "display_data",
          "data": {
            "image/png": "[encoded data removed]",
            "text/plain": [
              "<Figure size 432x288 with 1 Axes>"
            ]
          },
          "metadata": {
            "tags": []
          }
        },
        {
          "output_type": "display_data",
          "data": {
            "image/png": "[encoded data removed]",
            "text/plain": [
              "<Figure size 432x288 with 1 Axes>"
            ]
          },
          "metadata": {
            "tags": []
          }
        }
      ]
    },
    {
      "cell_type": "code",
      "metadata": {
        "id": "Oa8Jfr4fTVr4",
        "colab_type": "code",
        "colab": {
          "base_uri": "https://localhost:8080/",
          "height": 1000
        },
        "outputId": "a8f0dd20-e0cd-4671-cf3a-8e9d1c100cb2"
      },
      "source": [
        "sns.regplot(x=data_0.iloc[:20,0],\n",
        "            y=data_0.iloc[:20,7],\n",
        "            fit_reg=False)\n",
        "plt.title('time, col_7', fontsize=20)\n",
        "plt.show()\n",
        "\n",
        "sns.regplot(x=data_22.iloc[:20,0],\n",
        "            y=data_22.iloc[:20,7],\n",
        "            fit_reg=False)\n",
        "plt.title('time, col_7', fontsize=20)\n",
        "plt.show()\n",
        "\n",
        "sns.regplot(x=data_59.iloc[:20,0],\n",
        "            y=data_59.iloc[:20,7],\n",
        "            fit_reg=False)\n",
        "plt.title('time, col_7', fontsize=20)\n",
        "plt.show()\n",
        "\n",
        "sns.regplot(x=data_198.iloc[:20,0],\n",
        "            y=data_198.iloc[:20,7],\n",
        "            fit_reg=False)\n",
        "plt.title('time, col_7', fontsize=20)\n",
        "plt.show()"
      ],
      "execution_count": 14,
      "outputs": [
        {
          "output_type": "display_data",
          "data": {
            "image/png": "[encoded data removed]",
            "text/plain": [
              "<Figure size 432x288 with 1 Axes>"
            ]
          },
          "metadata": {
            "tags": []
          }
        },
        {
          "output_type": "display_data",
          "data": {
            "image/png": "[encoded data removed]",
            "text/plain": [
              "<Figure size 432x288 with 1 Axes>"
            ]
          },
          "metadata": {
            "tags": []
          }
        },
        {
          "output_type": "display_data",
          "data": {
            "image/png": "[encoded data removed]",
            "text/plain": [
              "<Figure size 432x288 with 1 Axes>"
            ]
          },
          "metadata": {
            "tags": []
          }
        },
        {
          "output_type": "display_data",
          "data": {
            "image/png": "[encoded data removed]",
            "text/plain": [
              "<Figure size 432x288 with 1 Axes>"
            ]
          },
          "metadata": {
            "tags": []
          }
        }
      ]
    },
    {
      "cell_type": "code",
      "metadata": {
        "id": "9IK9g3wp_TDN",
        "colab_type": "code",
        "colab": {
          "base_uri": "https://localhost:8080/",
          "height": 1000
        },
        "outputId": "9c249d6f-5be9-46e0-c535-9c73bb173194"
      },
      "source": [
        "sns.regplot(x=data_0.iloc[:20,0],\n",
        "            y=data_0.iloc[:20,2221],\n",
        "            fit_reg=False)\n",
        "plt.title('time, col_2221', fontsize=20)\n",
        "plt.show()\n",
        "\n",
        "sns.regplot(x=data_22.iloc[:20,0],\n",
        "            y=data_22.iloc[:20,2221],\n",
        "            fit_reg=False)\n",
        "plt.title('time, col_2221', fontsize=20)\n",
        "plt.show()\n",
        "\n",
        "sns.regplot(x=data_59.iloc[:20,0],\n",
        "            y=data_59.iloc[:20,2221],\n",
        "            fit_reg=False)\n",
        "plt.title('time, col_2221', fontsize=20)\n",
        "plt.show()\n",
        "\n",
        "sns.regplot(x=data_198.iloc[:20,0],\n",
        "            y=data_198.iloc[:20,2221],\n",
        "            fit_reg=False)\n",
        "plt.title('time, col_2221', fontsize=20)\n",
        "plt.show()"
      ],
      "execution_count": 13,
      "outputs": [
        {
          "output_type": "display_data",
          "data": {
            "image/png": "[encoded data removed]",
            "text/plain": [
              "<Figure size 432x288 with 1 Axes>"
            ]
          },
          "metadata": {
            "tags": []
          }
        },
        {
          "output_type": "display_data",
          "data": {
            "image/png": "[encoded data removed]",
            "text/plain": [
              "<Figure size 432x288 with 1 Axes>"
            ]
          },
          "metadata": {
            "tags": []
          }
        },
        {
          "output_type": "display_data",
          "data": {
            "image/png": "[encoded data removed]",
            "text/plain": [
              "<Figure size 432x288 with 1 Axes>"
            ]
          },
          "metadata": {
            "tags": []
          }
        },
        {
          "output_type": "display_data",
          "data": {
            "image/png": "[encoded data removed]",
            "text/plain": [
              "<Figure size 432x288 with 1 Axes>"
            ]
          },
          "metadata": {
            "tags": []
          }
        }
      ]
    },
    {
      "cell_type": "code",
      "metadata": {
        "id": "BXIDcOcaDxJi",
        "colab_type": "code",
        "colab": {}
      },
      "source": [
        ""
      ],
      "execution_count": 0,
      "outputs": []
    },
    {
      "cell_type": "code",
      "metadata": {
        "id": "AK9n47kBDxRE",
        "colab_type": "code",
        "colab": {}
      },
      "source": [
        ""
      ],
      "execution_count": 0,
      "outputs": []
    },
    {
      "cell_type": "code",
      "metadata": {
        "id": "GJn8ybEcDxX1",
        "colab_type": "code",
        "colab": {}
      },
      "source": [
        "data_0_des_a = data_0.iloc[:11,:].describe()\n",
        "data_0_std_a = data_0_des_a.loc['std']\n",
        "\n"
      ],
      "execution_count": 0,
      "outputs": []
    },
    {
      "cell_type": "code",
      "metadata": {
        "id": "_xecWlEXU2Nl",
        "colab_type": "code",
        "colab": {
          "base_uri": "https://localhost:8080/",
          "height": 441
        },
        "outputId": "1feddbde-86ed-46da-d73e-ba17160fb99e"
      },
      "source": [
        "data_0_des_a"
      ],
      "execution_count": 20,
      "outputs": [
        {
          "output_type": "execute_result",
          "data": {
            "text/html": [
              "<div>\n",
              "<style scoped>\n",
              "    .dataframe tbody tr th:only-of-type {\n",
              "        vertical-align: middle;\n",
              "    }\n",
              "\n",
              "    .dataframe tbody tr th {\n",
              "        vertical-align: top;\n",
              "    }\n",
              "\n",
              "    .dataframe thead th {\n",
              "        text-align: right;\n",
              "    }\n",
              "</style>\n",
              "<table border=\"1\" class=\"dataframe\">\n",
              "  <thead>\n",
              "    <tr style=\"text-align: right;\">\n",
              "      <th></th>\n",
              "      <th>time</th>\n",
              "      <th>V0000</th>\n",
              "      <th>V0001</th>\n",
              "      <th>V0002</th>\n",
              "      <th>V0003</th>\n",
              "      <th>V0004</th>\n",
              "      <th>V0005</th>\n",
              "      <th>V0006</th>\n",
              "      <th>V0007</th>\n",
              "      <th>V0008</th>\n",
              "      <th>V0009</th>\n",
              "      <th>V0010</th>\n",
              "      <th>V0011</th>\n",
              "      <th>V0012</th>\n",
              "      <th>V0013</th>\n",
              "      <th>V0014</th>\n",
              "      <th>V0015</th>\n",
              "      <th>V0016</th>\n",
              "      <th>V0017</th>\n",
              "      <th>V0018</th>\n",
              "      <th>V0019</th>\n",
              "      <th>V0020</th>\n",
              "      <th>V0021</th>\n",
              "      <th>V0022</th>\n",
              "      <th>V0023</th>\n",
              "      <th>V0024</th>\n",
              "      <th>V0025</th>\n",
              "      <th>V0026</th>\n",
              "      <th>V0027</th>\n",
              "      <th>V0028</th>\n",
              "      <th>V0029</th>\n",
              "      <th>V0030</th>\n",
              "      <th>V0031</th>\n",
              "      <th>V0032</th>\n",
              "      <th>V0033</th>\n",
              "      <th>V0034</th>\n",
              "      <th>V0035</th>\n",
              "      <th>V0036</th>\n",
              "      <th>V0037</th>\n",
              "      <th>V0038</th>\n",
              "      <th>...</th>\n",
              "      <th>V5081</th>\n",
              "      <th>V5082</th>\n",
              "      <th>V5083</th>\n",
              "      <th>V5084</th>\n",
              "      <th>V5085</th>\n",
              "      <th>V5086</th>\n",
              "      <th>V5087</th>\n",
              "      <th>V5088</th>\n",
              "      <th>V5089</th>\n",
              "      <th>V5090</th>\n",
              "      <th>V5091</th>\n",
              "      <th>V5092</th>\n",
              "      <th>V5093</th>\n",
              "      <th>V5094</th>\n",
              "      <th>V5095</th>\n",
              "      <th>V5096</th>\n",
              "      <th>V5097</th>\n",
              "      <th>V5098</th>\n",
              "      <th>V5099</th>\n",
              "      <th>V5100</th>\n",
              "      <th>V5101</th>\n",
              "      <th>V5102</th>\n",
              "      <th>V5103</th>\n",
              "      <th>V5104</th>\n",
              "      <th>V5105</th>\n",
              "      <th>V5106</th>\n",
              "      <th>V5107</th>\n",
              "      <th>V5108</th>\n",
              "      <th>V5109</th>\n",
              "      <th>V5110</th>\n",
              "      <th>V5111</th>\n",
              "      <th>V5112</th>\n",
              "      <th>V5113</th>\n",
              "      <th>V5114</th>\n",
              "      <th>V5115</th>\n",
              "      <th>V5116</th>\n",
              "      <th>V5117</th>\n",
              "      <th>V5118</th>\n",
              "      <th>V5119</th>\n",
              "      <th>V5120</th>\n",
              "    </tr>\n",
              "  </thead>\n",
              "  <tbody>\n",
              "    <tr>\n",
              "      <th>count</th>\n",
              "      <td>11.000000</td>\n",
              "      <td>11.000000</td>\n",
              "      <td>11.000000</td>\n",
              "      <td>11.000000</td>\n",
              "      <td>11.000000</td>\n",
              "      <td>11.000000</td>\n",
              "      <td>11.000000</td>\n",
              "      <td>11.000000</td>\n",
              "      <td>1.100000e+01</td>\n",
              "      <td>11.0</td>\n",
              "      <td>11.000000</td>\n",
              "      <td>11.0</td>\n",
              "      <td>1.100000e+01</td>\n",
              "      <td>1.100000e+01</td>\n",
              "      <td>11.000000</td>\n",
              "      <td>11.000000</td>\n",
              "      <td>11.000000</td>\n",
              "      <td>11.000000</td>\n",
              "      <td>11.000000</td>\n",
              "      <td>11.000000</td>\n",
              "      <td>1.100000e+01</td>\n",
              "      <td>1.100000e+01</td>\n",
              "      <td>1.100000e+01</td>\n",
              "      <td>1.100000e+01</td>\n",
              "      <td>1.100000e+01</td>\n",
              "      <td>1.100000e+01</td>\n",
              "      <td>11.000000</td>\n",
              "      <td>11.000000</td>\n",
              "      <td>11.000000</td>\n",
              "      <td>11.000000</td>\n",
              "      <td>11.000000</td>\n",
              "      <td>11.000000</td>\n",
              "      <td>11.000000</td>\n",
              "      <td>11.000000</td>\n",
              "      <td>11.000000</td>\n",
              "      <td>1.100000e+01</td>\n",
              "      <td>1.100000e+01</td>\n",
              "      <td>1.100000e+01</td>\n",
              "      <td>1.100000e+01</td>\n",
              "      <td>1.100000e+01</td>\n",
              "      <td>...</td>\n",
              "      <td>11.0</td>\n",
              "      <td>11.0</td>\n",
              "      <td>11.0</td>\n",
              "      <td>11.000000</td>\n",
              "      <td>11.000000</td>\n",
              "      <td>11.000000</td>\n",
              "      <td>11.000000</td>\n",
              "      <td>11.000000</td>\n",
              "      <td>11.000000</td>\n",
              "      <td>11.000000</td>\n",
              "      <td>11.0</td>\n",
              "      <td>11.0</td>\n",
              "      <td>11.0</td>\n",
              "      <td>11.0</td>\n",
              "      <td>11.0</td>\n",
              "      <td>11.0</td>\n",
              "      <td>11.0</td>\n",
              "      <td>11.0</td>\n",
              "      <td>11.0</td>\n",
              "      <td>11.0</td>\n",
              "      <td>11.0</td>\n",
              "      <td>11.0</td>\n",
              "      <td>11.0</td>\n",
              "      <td>11.0</td>\n",
              "      <td>11.0</td>\n",
              "      <td>11.0</td>\n",
              "      <td>11.0</td>\n",
              "      <td>11.0</td>\n",
              "      <td>11.0</td>\n",
              "      <td>11.0</td>\n",
              "      <td>11.0</td>\n",
              "      <td>11.0</td>\n",
              "      <td>11.0</td>\n",
              "      <td>11.0</td>\n",
              "      <td>11.0</td>\n",
              "      <td>11.000000</td>\n",
              "      <td>11.000000</td>\n",
              "      <td>1.100000e+01</td>\n",
              "      <td>1.100000e+01</td>\n",
              "      <td>11.000000</td>\n",
              "    </tr>\n",
              "    <tr>\n",
              "      <th>mean</th>\n",
              "      <td>5.000000</td>\n",
              "      <td>30.471212</td>\n",
              "      <td>8.772709</td>\n",
              "      <td>8.703892</td>\n",
              "      <td>8.721046</td>\n",
              "      <td>8.712377</td>\n",
              "      <td>195.387756</td>\n",
              "      <td>188.315080</td>\n",
              "      <td>1.698374e-21</td>\n",
              "      <td>0.0</td>\n",
              "      <td>0.000207</td>\n",
              "      <td>0.0</td>\n",
              "      <td>5.581550e-19</td>\n",
              "      <td>3.476300e-18</td>\n",
              "      <td>274.393252</td>\n",
              "      <td>273.694413</td>\n",
              "      <td>274.407517</td>\n",
              "      <td>274.503293</td>\n",
              "      <td>36.011483</td>\n",
              "      <td>35.980549</td>\n",
              "      <td>-1.000000e-04</td>\n",
              "      <td>-1.000000e-04</td>\n",
              "      <td>-1.000000e-04</td>\n",
              "      <td>-1.000000e-04</td>\n",
              "      <td>-1.000000e-04</td>\n",
              "      <td>-1.000000e-04</td>\n",
              "      <td>18.349422</td>\n",
              "      <td>2.573670</td>\n",
              "      <td>2.566187</td>\n",
              "      <td>36.009977</td>\n",
              "      <td>35.999471</td>\n",
              "      <td>36.003882</td>\n",
              "      <td>36.006673</td>\n",
              "      <td>36.003312</td>\n",
              "      <td>36.008055</td>\n",
              "      <td>-1.000000e-04</td>\n",
              "      <td>-1.000000e-04</td>\n",
              "      <td>-1.000000e-04</td>\n",
              "      <td>-1.000000e-04</td>\n",
              "      <td>-1.000000e-04</td>\n",
              "      <td>...</td>\n",
              "      <td>1.0</td>\n",
              "      <td>1.0</td>\n",
              "      <td>1.0</td>\n",
              "      <td>110.857563</td>\n",
              "      <td>110.871453</td>\n",
              "      <td>-0.294292</td>\n",
              "      <td>-0.229836</td>\n",
              "      <td>-0.202940</td>\n",
              "      <td>-0.155755</td>\n",
              "      <td>43.200998</td>\n",
              "      <td>1.0</td>\n",
              "      <td>1.0</td>\n",
              "      <td>1.0</td>\n",
              "      <td>1.0</td>\n",
              "      <td>1.0</td>\n",
              "      <td>0.0</td>\n",
              "      <td>0.0</td>\n",
              "      <td>1.0</td>\n",
              "      <td>0.0</td>\n",
              "      <td>1.0</td>\n",
              "      <td>0.0</td>\n",
              "      <td>1.0</td>\n",
              "      <td>1.0</td>\n",
              "      <td>1.0</td>\n",
              "      <td>1.0</td>\n",
              "      <td>1.0</td>\n",
              "      <td>1.0</td>\n",
              "      <td>0.0</td>\n",
              "      <td>1.0</td>\n",
              "      <td>1.0</td>\n",
              "      <td>1.0</td>\n",
              "      <td>1.0</td>\n",
              "      <td>1.0</td>\n",
              "      <td>1.0</td>\n",
              "      <td>60.0</td>\n",
              "      <td>11.598182</td>\n",
              "      <td>10.205727</td>\n",
              "      <td>-2.405929e-02</td>\n",
              "      <td>8.540000e+01</td>\n",
              "      <td>-0.000407</td>\n",
              "    </tr>\n",
              "    <tr>\n",
              "      <th>std</th>\n",
              "      <td>3.316625</td>\n",
              "      <td>0.010648</td>\n",
              "      <td>0.063480</td>\n",
              "      <td>0.021095</td>\n",
              "      <td>0.025308</td>\n",
              "      <td>0.017628</td>\n",
              "      <td>9.915105</td>\n",
              "      <td>26.851626</td>\n",
              "      <td>4.116437e-19</td>\n",
              "      <td>0.0</td>\n",
              "      <td>0.001454</td>\n",
              "      <td>0.0</td>\n",
              "      <td>1.525098e-18</td>\n",
              "      <td>5.796202e-18</td>\n",
              "      <td>0.846773</td>\n",
              "      <td>1.256972</td>\n",
              "      <td>0.561165</td>\n",
              "      <td>1.367747</td>\n",
              "      <td>0.025858</td>\n",
              "      <td>0.078415</td>\n",
              "      <td>2.842802e-20</td>\n",
              "      <td>2.842802e-20</td>\n",
              "      <td>2.842802e-20</td>\n",
              "      <td>2.842802e-20</td>\n",
              "      <td>2.842802e-20</td>\n",
              "      <td>2.842802e-20</td>\n",
              "      <td>0.008903</td>\n",
              "      <td>0.000864</td>\n",
              "      <td>0.000933</td>\n",
              "      <td>0.009909</td>\n",
              "      <td>0.014524</td>\n",
              "      <td>0.014334</td>\n",
              "      <td>0.012889</td>\n",
              "      <td>0.016843</td>\n",
              "      <td>0.011025</td>\n",
              "      <td>2.842802e-20</td>\n",
              "      <td>2.842802e-20</td>\n",
              "      <td>2.842802e-20</td>\n",
              "      <td>2.842802e-20</td>\n",
              "      <td>2.842802e-20</td>\n",
              "      <td>...</td>\n",
              "      <td>0.0</td>\n",
              "      <td>0.0</td>\n",
              "      <td>0.0</td>\n",
              "      <td>0.056493</td>\n",
              "      <td>0.058194</td>\n",
              "      <td>0.009256</td>\n",
              "      <td>0.007921</td>\n",
              "      <td>0.028530</td>\n",
              "      <td>0.013696</td>\n",
              "      <td>0.007555</td>\n",
              "      <td>0.0</td>\n",
              "      <td>0.0</td>\n",
              "      <td>0.0</td>\n",
              "      <td>0.0</td>\n",
              "      <td>0.0</td>\n",
              "      <td>0.0</td>\n",
              "      <td>0.0</td>\n",
              "      <td>0.0</td>\n",
              "      <td>0.0</td>\n",
              "      <td>0.0</td>\n",
              "      <td>0.0</td>\n",
              "      <td>0.0</td>\n",
              "      <td>0.0</td>\n",
              "      <td>0.0</td>\n",
              "      <td>0.0</td>\n",
              "      <td>0.0</td>\n",
              "      <td>0.0</td>\n",
              "      <td>0.0</td>\n",
              "      <td>0.0</td>\n",
              "      <td>0.0</td>\n",
              "      <td>0.0</td>\n",
              "      <td>0.0</td>\n",
              "      <td>0.0</td>\n",
              "      <td>0.0</td>\n",
              "      <td>0.0</td>\n",
              "      <td>38.466817</td>\n",
              "      <td>33.848568</td>\n",
              "      <td>7.981234e-02</td>\n",
              "      <td>1.490447e-14</td>\n",
              "      <td>0.001349</td>\n",
              "    </tr>\n",
              "    <tr>\n",
              "      <th>min</th>\n",
              "      <td>0.000000</td>\n",
              "      <td>30.453275</td>\n",
              "      <td>8.682230</td>\n",
              "      <td>8.662265</td>\n",
              "      <td>8.687399</td>\n",
              "      <td>8.679515</td>\n",
              "      <td>179.695790</td>\n",
              "      <td>158.825020</td>\n",
              "      <td>-6.018877e-19</td>\n",
              "      <td>0.0</td>\n",
              "      <td>-0.002136</td>\n",
              "      <td>0.0</td>\n",
              "      <td>-2.066917e-18</td>\n",
              "      <td>-7.331799e-18</td>\n",
              "      <td>273.137859</td>\n",
              "      <td>271.555050</td>\n",
              "      <td>273.612745</td>\n",
              "      <td>271.797471</td>\n",
              "      <td>35.961824</td>\n",
              "      <td>35.875638</td>\n",
              "      <td>-1.000000e-04</td>\n",
              "      <td>-1.000000e-04</td>\n",
              "      <td>-1.000000e-04</td>\n",
              "      <td>-1.000000e-04</td>\n",
              "      <td>-1.000000e-04</td>\n",
              "      <td>-1.000000e-04</td>\n",
              "      <td>18.330531</td>\n",
              "      <td>2.572506</td>\n",
              "      <td>2.564345</td>\n",
              "      <td>35.991761</td>\n",
              "      <td>35.971395</td>\n",
              "      <td>35.973599</td>\n",
              "      <td>35.979758</td>\n",
              "      <td>35.976168</td>\n",
              "      <td>35.984422</td>\n",
              "      <td>-1.000000e-04</td>\n",
              "      <td>-1.000000e-04</td>\n",
              "      <td>-1.000000e-04</td>\n",
              "      <td>-1.000000e-04</td>\n",
              "      <td>-1.000000e-04</td>\n",
              "      <td>...</td>\n",
              "      <td>1.0</td>\n",
              "      <td>1.0</td>\n",
              "      <td>1.0</td>\n",
              "      <td>110.787730</td>\n",
              "      <td>110.792563</td>\n",
              "      <td>-0.314215</td>\n",
              "      <td>-0.243837</td>\n",
              "      <td>-0.255590</td>\n",
              "      <td>-0.172449</td>\n",
              "      <td>43.184915</td>\n",
              "      <td>1.0</td>\n",
              "      <td>1.0</td>\n",
              "      <td>1.0</td>\n",
              "      <td>1.0</td>\n",
              "      <td>1.0</td>\n",
              "      <td>0.0</td>\n",
              "      <td>0.0</td>\n",
              "      <td>1.0</td>\n",
              "      <td>0.0</td>\n",
              "      <td>1.0</td>\n",
              "      <td>0.0</td>\n",
              "      <td>1.0</td>\n",
              "      <td>1.0</td>\n",
              "      <td>1.0</td>\n",
              "      <td>1.0</td>\n",
              "      <td>1.0</td>\n",
              "      <td>1.0</td>\n",
              "      <td>0.0</td>\n",
              "      <td>1.0</td>\n",
              "      <td>1.0</td>\n",
              "      <td>1.0</td>\n",
              "      <td>1.0</td>\n",
              "      <td>1.0</td>\n",
              "      <td>1.0</td>\n",
              "      <td>60.0</td>\n",
              "      <td>0.000000</td>\n",
              "      <td>0.000000</td>\n",
              "      <td>-2.647025e-01</td>\n",
              "      <td>8.540000e+01</td>\n",
              "      <td>-0.004474</td>\n",
              "    </tr>\n",
              "    <tr>\n",
              "      <th>25%</th>\n",
              "      <td>2.500000</td>\n",
              "      <td>30.465577</td>\n",
              "      <td>8.735124</td>\n",
              "      <td>8.692770</td>\n",
              "      <td>8.706285</td>\n",
              "      <td>8.707070</td>\n",
              "      <td>189.595295</td>\n",
              "      <td>163.347535</td>\n",
              "      <td>-1.933220e-19</td>\n",
              "      <td>0.0</td>\n",
              "      <td>-0.000867</td>\n",
              "      <td>0.0</td>\n",
              "      <td>-1.748007e-19</td>\n",
              "      <td>1.373919e-18</td>\n",
              "      <td>273.634080</td>\n",
              "      <td>272.754945</td>\n",
              "      <td>273.954343</td>\n",
              "      <td>273.524164</td>\n",
              "      <td>35.994934</td>\n",
              "      <td>35.894880</td>\n",
              "      <td>-1.000000e-04</td>\n",
              "      <td>-1.000000e-04</td>\n",
              "      <td>-1.000000e-04</td>\n",
              "      <td>-1.000000e-04</td>\n",
              "      <td>-1.000000e-04</td>\n",
              "      <td>-1.000000e-04</td>\n",
              "      <td>18.344353</td>\n",
              "      <td>2.573260</td>\n",
              "      <td>2.565815</td>\n",
              "      <td>36.004308</td>\n",
              "      <td>35.992514</td>\n",
              "      <td>35.998160</td>\n",
              "      <td>36.000425</td>\n",
              "      <td>35.990290</td>\n",
              "      <td>36.004934</td>\n",
              "      <td>-1.000000e-04</td>\n",
              "      <td>-1.000000e-04</td>\n",
              "      <td>-1.000000e-04</td>\n",
              "      <td>-1.000000e-04</td>\n",
              "      <td>-1.000000e-04</td>\n",
              "      <td>...</td>\n",
              "      <td>1.0</td>\n",
              "      <td>1.0</td>\n",
              "      <td>1.0</td>\n",
              "      <td>110.815352</td>\n",
              "      <td>110.830776</td>\n",
              "      <td>-0.299154</td>\n",
              "      <td>-0.234377</td>\n",
              "      <td>-0.219865</td>\n",
              "      <td>-0.165536</td>\n",
              "      <td>43.199347</td>\n",
              "      <td>1.0</td>\n",
              "      <td>1.0</td>\n",
              "      <td>1.0</td>\n",
              "      <td>1.0</td>\n",
              "      <td>1.0</td>\n",
              "      <td>0.0</td>\n",
              "      <td>0.0</td>\n",
              "      <td>1.0</td>\n",
              "      <td>0.0</td>\n",
              "      <td>1.0</td>\n",
              "      <td>0.0</td>\n",
              "      <td>1.0</td>\n",
              "      <td>1.0</td>\n",
              "      <td>1.0</td>\n",
              "      <td>1.0</td>\n",
              "      <td>1.0</td>\n",
              "      <td>1.0</td>\n",
              "      <td>0.0</td>\n",
              "      <td>1.0</td>\n",
              "      <td>1.0</td>\n",
              "      <td>1.0</td>\n",
              "      <td>1.0</td>\n",
              "      <td>1.0</td>\n",
              "      <td>1.0</td>\n",
              "      <td>60.0</td>\n",
              "      <td>0.000000</td>\n",
              "      <td>0.000000</td>\n",
              "      <td>-1.070346e-05</td>\n",
              "      <td>8.540000e+01</td>\n",
              "      <td>0.000000</td>\n",
              "    </tr>\n",
              "    <tr>\n",
              "      <th>50%</th>\n",
              "      <td>5.000000</td>\n",
              "      <td>30.474394</td>\n",
              "      <td>8.780911</td>\n",
              "      <td>8.702882</td>\n",
              "      <td>8.721917</td>\n",
              "      <td>8.718461</td>\n",
              "      <td>194.606116</td>\n",
              "      <td>185.416531</td>\n",
              "      <td>-9.246151e-20</td>\n",
              "      <td>0.0</td>\n",
              "      <td>-0.000117</td>\n",
              "      <td>0.0</td>\n",
              "      <td>-5.945518e-21</td>\n",
              "      <td>3.244527e-18</td>\n",
              "      <td>274.574308</td>\n",
              "      <td>273.647710</td>\n",
              "      <td>274.561944</td>\n",
              "      <td>274.926521</td>\n",
              "      <td>36.018765</td>\n",
              "      <td>36.006222</td>\n",
              "      <td>-1.000000e-04</td>\n",
              "      <td>-1.000000e-04</td>\n",
              "      <td>-1.000000e-04</td>\n",
              "      <td>-1.000000e-04</td>\n",
              "      <td>-1.000000e-04</td>\n",
              "      <td>-1.000000e-04</td>\n",
              "      <td>18.351074</td>\n",
              "      <td>2.573464</td>\n",
              "      <td>2.565968</td>\n",
              "      <td>36.009619</td>\n",
              "      <td>35.998833</td>\n",
              "      <td>36.004755</td>\n",
              "      <td>36.005129</td>\n",
              "      <td>36.007507</td>\n",
              "      <td>36.009856</td>\n",
              "      <td>-1.000000e-04</td>\n",
              "      <td>-1.000000e-04</td>\n",
              "      <td>-1.000000e-04</td>\n",
              "      <td>-1.000000e-04</td>\n",
              "      <td>-1.000000e-04</td>\n",
              "      <td>...</td>\n",
              "      <td>1.0</td>\n",
              "      <td>1.0</td>\n",
              "      <td>1.0</td>\n",
              "      <td>110.858082</td>\n",
              "      <td>110.857524</td>\n",
              "      <td>-0.294161</td>\n",
              "      <td>-0.231547</td>\n",
              "      <td>-0.199740</td>\n",
              "      <td>-0.157667</td>\n",
              "      <td>43.200596</td>\n",
              "      <td>1.0</td>\n",
              "      <td>1.0</td>\n",
              "      <td>1.0</td>\n",
              "      <td>1.0</td>\n",
              "      <td>1.0</td>\n",
              "      <td>0.0</td>\n",
              "      <td>0.0</td>\n",
              "      <td>1.0</td>\n",
              "      <td>0.0</td>\n",
              "      <td>1.0</td>\n",
              "      <td>0.0</td>\n",
              "      <td>1.0</td>\n",
              "      <td>1.0</td>\n",
              "      <td>1.0</td>\n",
              "      <td>1.0</td>\n",
              "      <td>1.0</td>\n",
              "      <td>1.0</td>\n",
              "      <td>0.0</td>\n",
              "      <td>1.0</td>\n",
              "      <td>1.0</td>\n",
              "      <td>1.0</td>\n",
              "      <td>1.0</td>\n",
              "      <td>1.0</td>\n",
              "      <td>1.0</td>\n",
              "      <td>60.0</td>\n",
              "      <td>0.000000</td>\n",
              "      <td>0.000000</td>\n",
              "      <td>-6.392587e-07</td>\n",
              "      <td>8.540000e+01</td>\n",
              "      <td>0.000000</td>\n",
              "    </tr>\n",
              "    <tr>\n",
              "      <th>75%</th>\n",
              "      <td>7.500000</td>\n",
              "      <td>30.477550</td>\n",
              "      <td>8.798542</td>\n",
              "      <td>8.718647</td>\n",
              "      <td>8.732868</td>\n",
              "      <td>8.723495</td>\n",
              "      <td>204.208123</td>\n",
              "      <td>207.250342</td>\n",
              "      <td>1.784250e-19</td>\n",
              "      <td>0.0</td>\n",
              "      <td>0.001596</td>\n",
              "      <td>0.0</td>\n",
              "      <td>1.236354e-18</td>\n",
              "      <td>7.194976e-18</td>\n",
              "      <td>274.827270</td>\n",
              "      <td>274.375243</td>\n",
              "      <td>274.697936</td>\n",
              "      <td>275.410274</td>\n",
              "      <td>36.020752</td>\n",
              "      <td>36.033502</td>\n",
              "      <td>-1.000000e-04</td>\n",
              "      <td>-1.000000e-04</td>\n",
              "      <td>-1.000000e-04</td>\n",
              "      <td>-1.000000e-04</td>\n",
              "      <td>-1.000000e-04</td>\n",
              "      <td>-1.000000e-04</td>\n",
              "      <td>18.355615</td>\n",
              "      <td>2.573743</td>\n",
              "      <td>2.566441</td>\n",
              "      <td>36.015332</td>\n",
              "      <td>36.007961</td>\n",
              "      <td>36.014420</td>\n",
              "      <td>36.014440</td>\n",
              "      <td>36.014708</td>\n",
              "      <td>36.014727</td>\n",
              "      <td>-1.000000e-04</td>\n",
              "      <td>-1.000000e-04</td>\n",
              "      <td>-1.000000e-04</td>\n",
              "      <td>-1.000000e-04</td>\n",
              "      <td>-1.000000e-04</td>\n",
              "      <td>...</td>\n",
              "      <td>1.0</td>\n",
              "      <td>1.0</td>\n",
              "      <td>1.0</td>\n",
              "      <td>110.898025</td>\n",
              "      <td>110.907163</td>\n",
              "      <td>-0.287497</td>\n",
              "      <td>-0.224441</td>\n",
              "      <td>-0.183907</td>\n",
              "      <td>-0.152034</td>\n",
              "      <td>43.205976</td>\n",
              "      <td>1.0</td>\n",
              "      <td>1.0</td>\n",
              "      <td>1.0</td>\n",
              "      <td>1.0</td>\n",
              "      <td>1.0</td>\n",
              "      <td>0.0</td>\n",
              "      <td>0.0</td>\n",
              "      <td>1.0</td>\n",
              "      <td>0.0</td>\n",
              "      <td>1.0</td>\n",
              "      <td>0.0</td>\n",
              "      <td>1.0</td>\n",
              "      <td>1.0</td>\n",
              "      <td>1.0</td>\n",
              "      <td>1.0</td>\n",
              "      <td>1.0</td>\n",
              "      <td>1.0</td>\n",
              "      <td>0.0</td>\n",
              "      <td>1.0</td>\n",
              "      <td>1.0</td>\n",
              "      <td>1.0</td>\n",
              "      <td>1.0</td>\n",
              "      <td>1.0</td>\n",
              "      <td>1.0</td>\n",
              "      <td>60.0</td>\n",
              "      <td>0.000000</td>\n",
              "      <td>0.000000</td>\n",
              "      <td>1.435664e-05</td>\n",
              "      <td>8.540000e+01</td>\n",
              "      <td>0.000000</td>\n",
              "    </tr>\n",
              "    <tr>\n",
              "      <th>max</th>\n",
              "      <td>10.000000</td>\n",
              "      <td>30.486806</td>\n",
              "      <td>8.908323</td>\n",
              "      <td>8.736399</td>\n",
              "      <td>8.767139</td>\n",
              "      <td>8.732474</td>\n",
              "      <td>207.697895</td>\n",
              "      <td>232.675873</td>\n",
              "      <td>8.676680e-19</td>\n",
              "      <td>0.0</td>\n",
              "      <td>0.001899</td>\n",
              "      <td>0.0</td>\n",
              "      <td>3.346731e-18</td>\n",
              "      <td>1.372039e-17</td>\n",
              "      <td>275.654655</td>\n",
              "      <td>275.772740</td>\n",
              "      <td>275.410892</td>\n",
              "      <td>276.353897</td>\n",
              "      <td>36.059972</td>\n",
              "      <td>36.081499</td>\n",
              "      <td>-1.000000e-04</td>\n",
              "      <td>-1.000000e-04</td>\n",
              "      <td>-1.000000e-04</td>\n",
              "      <td>-1.000000e-04</td>\n",
              "      <td>-1.000000e-04</td>\n",
              "      <td>-1.000000e-04</td>\n",
              "      <td>18.360529</td>\n",
              "      <td>2.575379</td>\n",
              "      <td>2.567986</td>\n",
              "      <td>36.026806</td>\n",
              "      <td>36.021304</td>\n",
              "      <td>36.026525</td>\n",
              "      <td>36.024694</td>\n",
              "      <td>36.028230</td>\n",
              "      <td>36.022496</td>\n",
              "      <td>-1.000000e-04</td>\n",
              "      <td>-1.000000e-04</td>\n",
              "      <td>-1.000000e-04</td>\n",
              "      <td>-1.000000e-04</td>\n",
              "      <td>-1.000000e-04</td>\n",
              "      <td>...</td>\n",
              "      <td>1.0</td>\n",
              "      <td>1.0</td>\n",
              "      <td>1.0</td>\n",
              "      <td>110.941614</td>\n",
              "      <td>110.981328</td>\n",
              "      <td>-0.282482</td>\n",
              "      <td>-0.217439</td>\n",
              "      <td>-0.158981</td>\n",
              "      <td>-0.125627</td>\n",
              "      <td>43.212031</td>\n",
              "      <td>1.0</td>\n",
              "      <td>1.0</td>\n",
              "      <td>1.0</td>\n",
              "      <td>1.0</td>\n",
              "      <td>1.0</td>\n",
              "      <td>0.0</td>\n",
              "      <td>0.0</td>\n",
              "      <td>1.0</td>\n",
              "      <td>0.0</td>\n",
              "      <td>1.0</td>\n",
              "      <td>0.0</td>\n",
              "      <td>1.0</td>\n",
              "      <td>1.0</td>\n",
              "      <td>1.0</td>\n",
              "      <td>1.0</td>\n",
              "      <td>1.0</td>\n",
              "      <td>1.0</td>\n",
              "      <td>0.0</td>\n",
              "      <td>1.0</td>\n",
              "      <td>1.0</td>\n",
              "      <td>1.0</td>\n",
              "      <td>1.0</td>\n",
              "      <td>1.0</td>\n",
              "      <td>1.0</td>\n",
              "      <td>60.0</td>\n",
              "      <td>127.580000</td>\n",
              "      <td>112.263000</td>\n",
              "      <td>3.142552e-05</td>\n",
              "      <td>8.540000e+01</td>\n",
              "      <td>0.000000</td>\n",
              "    </tr>\n",
              "  </tbody>\n",
              "</table>\n",
              "<p>8 rows × 5122 columns</p>\n",
              "</div>"
            ],
            "text/plain": [
              "            time      V0000      V0001  ...         V5118         V5119      V5120\n",
              "count  11.000000  11.000000  11.000000  ...  1.100000e+01  1.100000e+01  11.000000\n",
              "mean    5.000000  30.471212   8.772709  ... -2.405929e-02  8.540000e+01  -0.000407\n",
              "std     3.316625   0.010648   0.063480  ...  7.981234e-02  1.490447e-14   0.001349\n",
              "min     0.000000  30.453275   8.682230  ... -2.647025e-01  8.540000e+01  -0.004474\n",
              "25%     2.500000  30.465577   8.735124  ... -1.070346e-05  8.540000e+01   0.000000\n",
              "50%     5.000000  30.474394   8.780911  ... -6.392587e-07  8.540000e+01   0.000000\n",
              "75%     7.500000  30.477550   8.798542  ...  1.435664e-05  8.540000e+01   0.000000\n",
              "max    10.000000  30.486806   8.908323  ...  3.142552e-05  8.540000e+01   0.000000\n",
              "\n",
              "[8 rows x 5122 columns]"
            ]
          },
          "metadata": {
            "tags": []
          },
          "execution_count": 20
        }
      ]
    }
  ]
}